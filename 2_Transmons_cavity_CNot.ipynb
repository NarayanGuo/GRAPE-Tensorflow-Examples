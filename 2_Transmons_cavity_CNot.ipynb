{
 "cells": [
  {
   "cell_type": "code",
   "execution_count": 1,
   "metadata": {
    "collapsed": false,
    "scrolled": false
   },
   "outputs": [
    {
     "name": "stdout",
     "output_type": "stream",
     "text": [
      "Populating the interactive namespace from numpy and matplotlib\n"
     ]
    },
    {
     "name": "stderr",
     "output_type": "stream",
     "text": [
      "WARNING: pylab import has clobbered these variables: ['display']\n",
      "`%matplotlib` prevents importing * from pylab and numpy\n"
     ]
    }
   ],
   "source": [
    "import scipy.linalg as la\n",
    "import os,sys,inspect\n",
    "currentdir = os.path.dirname(os.path.abspath(inspect.getfile(inspect.currentframe())))\n",
    "parentdir = os.path.dirname(currentdir)\n",
    "sys.path.insert(0,parentdir) \n",
    "from helper_functions.grape_functions import get_state_index\n",
    "from main_grape.Grape import Grape\n",
    "from IPython import display\n",
    "import numpy as np\n",
    "%pylab inline\n"
   ]
  },
  {
   "cell_type": "code",
   "execution_count": null,
   "metadata": {
    "collapsed": false
   },
   "outputs": [
    {
     "name": "stdout",
     "output_type": "stream",
     "text": [
      "[36, 37, 38, 39, 40, 41, 42, 43, 44, 45, 46, 47, 9, 10, 11, 21, 22, 23, 33, 34, 35, 2, 5, 8, 14, 17, 20, 26, 29, 32]\n",
      "[]\n",
      "15 12\n",
      "[0, 3, 12, 15]\n",
      "[[  0.           0.           0.           0.        ]\n",
      " [  0.          30.78760801   0.           0.        ]\n",
      " [  0.           0.          60.16417595   0.        ]\n",
      " [  0.           0.           0.          88.12970384]]\n",
      "[[  0.           0.           0.           0.        ]\n",
      " [  0.          28.27433388   0.           0.        ]\n",
      " [  0.           0.          55.13762771   0.        ]\n",
      " [  0.           0.           0.          80.58988148]]\n",
      "[[  0.           0.           0.        ]\n",
      " [  0.          38.33999674   0.        ]\n",
      " [  0.           0.          76.67999349]]\n"
     ]
    }
   ],
   "source": [
    "total_time = 50.0\n",
    "steps = 1000\n",
    "\n",
    "\n",
    "\n",
    "#Defining H0\n",
    "qubit_state_num = 4\n",
    "\n",
    "#Defining H0\n",
    "alpha = 0.224574\n",
    "freq_ge = 4.9#GHz\n",
    "ens_1 = np.array([ 2*np.pi*ii*(freq_ge - 0.5*(ii-1)*alpha) for ii in np.arange(qubit_state_num)])\n",
    "H0_1 = np.diag(ens_1)\n",
    "\n",
    "alpha = 0.224574\n",
    "freq_ge = 4.5#GHz\n",
    "ens_2 = np.array([ 2*np.pi*ii*(freq_ge - 0.5*(ii-1)*alpha) for ii in np.arange(qubit_state_num)])\n",
    "H0_2 = np.diag(ens_2)\n",
    "\n",
    "mode_state_num = 3\n",
    "qm_g1 =2*np.pi*0.1\n",
    "mode_freq = 6.102 #GHz\n",
    "mode_ens = np.array([ 2*np.pi*ii*(mode_freq) for ii in np.arange(mode_state_num)])\n",
    "qm_g2 = 2*np.pi*0.1\n",
    "#mode_freq2 = 5.327 #GHz\n",
    "state_num = mode_state_num * (qubit_state_num**2)\n",
    "Q_x   = np.diag(np.sqrt(np.arange(1,qubit_state_num)),1)+np.diag(np.sqrt(np.arange(1,qubit_state_num)),-1)\n",
    "Q_y   = (0+1j) *(np.diag(np.sqrt(np.arange(1,qubit_state_num)),1)-np.diag(np.sqrt(np.arange(1,qubit_state_num)),-1))\n",
    "Q_z   = np.diag(np.arange(0,qubit_state_num))\n",
    "\n",
    "M_x = np.diag(np.sqrt(np.arange(1,mode_state_num)),1)+np.diag(np.sqrt(np.arange(1,mode_state_num)),-1)\n",
    "\n",
    "I_q = np.identity(qubit_state_num)\n",
    "I_m = np.identity(mode_state_num)\n",
    "H_q_1 = np.diag(ens_1-ens_1[0])\n",
    "H_q_2 = np.diag(ens_2-ens_2[0])\n",
    "H_m = np.diag(mode_ens)\n",
    "\n",
    "H0 = np.kron(H_q_1,np.kron(I_q,I_m)) + np.kron(I_q,np.kron(H_q_2,I_m)) +\\\n",
    "        np.kron(I_q,np.kron(I_q,H_m)) + qm_g1*np.kron(Q_x,np.kron(I_q,M_x)) +\\\n",
    "        qm_g2*np.kron(I_q,np.kron(Q_x,M_x))\n",
    "\n",
    "#Defining Dressed information for our multimode exp        \n",
    "w_c, v_c = la.eig(H0)\n",
    "dressed=[]\n",
    "D= False\n",
    "if D:\n",
    "    for ii in range (len(v_c)):\n",
    "        index=np.argmax(np.abs(v_c[:,ii]))\n",
    "        if index not in dressed:\n",
    "            dressed.append(index)\n",
    "        else:\n",
    "            temp= (np.abs(v_c[:,ii])).tolist()\n",
    "            while index in dressed:\n",
    "\n",
    "                temp.remove(max(temp))\n",
    "                index2= np.argmax(np.array(temp))\n",
    "\n",
    "                if index2<index:\n",
    "                            #dressed.append(index2)\n",
    "                    index=index2\n",
    "                else:\n",
    "                            #dressed.append(index2-1)\n",
    "                    index=index2+1\n",
    "            dressed.append(index)\n",
    "\n",
    "\n",
    "\n",
    "\n",
    "#Defining Concerned states (starting states)\n",
    "psi0 = [0,mode_state_num,qubit_state_num* mode_state_num,(qubit_state_num+1)* mode_state_num ] #gg0,ge0,eg0,ee0\n",
    "\n",
    "#Defining states to include in the drawing of occupation\n",
    "states_draw_list = psi0\n",
    "states_draw_names = ['gg0','ge0','eg0','ee0']\n",
    "\n",
    "first_hs = range((qubit_state_num-1)*(qubit_state_num)*mode_state_num , state_num)\n",
    "second_hs = range((qubit_state_num-1)*mode_state_num , (qubit_state_num)*mode_state_num)\n",
    "for ii in range (qubit_state_num-2):\n",
    "    index = ((qubit_state_num-1)*mode_state_num) + (ii+1) *qubit_state_num* mode_state_num\n",
    "    second_hs = second_hs + (range(index , index + qubit_state_num-1))\n",
    "forbidden = first_hs +second_hs\n",
    "\n",
    "for ii in range(state_num):\n",
    "    if (ii % 3 == 2) and ii not in forbidden:\n",
    "        forbidden.append(ii)\n",
    "print forbidden\n",
    "#Defining U (Target)\n",
    "ee0=get_state_index((qubit_state_num+1)* mode_state_num,dressed)\n",
    "eg0=get_state_index(qubit_state_num* mode_state_num,dressed)\n",
    "\n",
    "print dressed\n",
    "print ee0,eg0\n",
    "\n",
    "if D:\n",
    "    Ct_c= np.identity(state_num) - np.outer(v_c[:,ee0], np.conjugate((v_c[:,ee0])))\n",
    "    Ct_c= Ct_c - np.outer(v_c[:,eg0], np.conjugate((v_c[:,eg0])))\n",
    "    Ct_c= Ct_c + np.outer(v_c[:,ee0], np.conjugate((v_c[:,eg0])))\n",
    "    Ct_c= Ct_c + np.outer(v_c[:,eg0], np.conjugate((v_c[:,ee0])))\n",
    "else:\n",
    "    #Ut_c = la.expm((0-1j)*total_time*H0)\n",
    "    #Ct_c = Ut_c.copy()\n",
    "    Ct_c = np.identity(state_num)\n",
    "    Ct_c[ee0,eg0] = 1\n",
    "    Ct_c[eg0,ee0] = 1\n",
    "    Ct_c[ee0,ee0] = 0\n",
    "    Ct_c[eg0,eg0] = 0\n",
    "U = Ct_c\n",
    "\n",
    "#Defining U0 (Initial)\n",
    "q_identity = np.identity(qubit_state_num)\n",
    "m_identity = np.identity(mode_state_num)\n",
    "\n",
    "#Defining control Hs\n",
    "XI_1 = np.kron(Q_x,np.kron(I_q,I_m))\n",
    "ZI_1 = np.kron(Q_z,np.kron(I_q,I_m))\n",
    "YI_1 = np.kron(Q_y,np.kron(I_q,I_m))\n",
    "XI_2 = np.kron(I_q,np.kron(Q_x,I_m))\n",
    "ZI_2 = np.kron(I_q,np.kron(Q_z,I_m))\n",
    "YI_2 = np.kron(I_q,np.kron(Q_y,I_m))\n",
    "Hops = [XI_1,YI_1,ZI_1, XI_2,YI_2,ZI_2]\n",
    "ops_max_amp = [6.0,6.0,6.0,6.0,6.0,6.0]\n",
    "Hnames =['x1','y1','z1','x2','y2','z2']\n",
    "\n",
    "#Defining convergence parameters\n",
    "max_iterations = 5000\n",
    "decay = max_iterations/2\n",
    "convergence = {'rate':0.002, 'update_step':50, 'max_iterations':max_iterations,\\\n",
    "               'conv_target':1e-8,'learning_rate_decay':decay}\n",
    "penalty_coeffs = {'envelope' : 0, 'dc':0, 'dwdt':0.0001,'d2wdt2':0, 'forbidden':10.0}\n",
    "#penalty_coeffs = {'envelope' : 0, 'dc':0, 'dwdt':0,'d2wdt2':0, 'forbidden':0}\n",
    "multi_mode = {'dressed':dressed, 'vectors':v_c, 'qnum':qubit_state_num, 'mnum': mode_state_num,\\\n",
    "              'f':freq_ge, 'es':w_c, 'g1':qm_g1, 'D':D, 'Interpolation':False, 'Modulation':False}\n",
    "\n",
    "\n",
    "print psi0\n",
    "print H_q_1\n",
    "print H_q_2\n",
    "print H_m"
   ]
  },
  {
   "cell_type": "code",
   "execution_count": null,
   "metadata": {
    "collapsed": false,
    "scrolled": false
   },
   "outputs": [
    {
     "name": "stdout",
     "output_type": "stream",
     "text": [
      "Using 5 Taylor terms and 7 Scaling & Squaring terms\n",
      "Building graph:\n",
      "Propagators initialized.\n",
      "Operators weight initialized.\n",
      "Intermediate propagators initialized.\n",
      "Intermediate propagators correlations initialized.\n",
      "Vectors initialized.\n",
      "Training loss initialized."
     ]
    }
   ],
   "source": [
    " #Extra options\n",
    "#reg_coeffs = reg_coeffs,draw = [states_draw_list,states_draw_names] ,forbidden = states_forbidden_list,multi_mode = multi_mode,\n",
    "#maxA = ops_max_amp,use_gpu = True\n",
    "uks,U_f = Grape(H0,Hops,Hnames,U,total_time,steps,psi0,convergence, draw = [states_draw_list,states_draw_names],show_plots = True,\n",
    "                maxA = ops_max_amp, \n",
    "       multi_mode=multi_mode, penalty_coeffs = penalty_coeffs, forbidden = forbidden,\n",
    "      method = 'L-BFGS-B', switch =True)"
   ]
  }
 ],
 "metadata": {
  "kernelspec": {
   "display_name": "Python 2",
   "language": "python",
   "name": "python2"
  },
  "language_info": {
   "codemirror_mode": {
    "name": "ipython",
    "version": 2
   },
   "file_extension": ".py",
   "mimetype": "text/x-python",
   "name": "python",
   "nbconvert_exporter": "python",
   "pygments_lexer": "ipython2",
   "version": "2.7.6"
  }
 },
 "nbformat": 4,
 "nbformat_minor": 0
}
