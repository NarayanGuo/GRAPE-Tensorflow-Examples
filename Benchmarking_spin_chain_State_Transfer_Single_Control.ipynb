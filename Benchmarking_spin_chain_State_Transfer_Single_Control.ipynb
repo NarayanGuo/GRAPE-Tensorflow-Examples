{
 "cells": [
  {
   "cell_type": "code",
   "execution_count": 1,
   "metadata": {
    "collapsed": false,
    "scrolled": false
   },
   "outputs": [
    {
     "name": "stdout",
     "output_type": "stream",
     "text": [
      "Populating the interactive namespace from numpy and matplotlib\n"
     ]
    },
    {
     "name": "stderr",
     "output_type": "stream",
     "text": [
      "/usr/local/lib/python2.7/dist-packages/matplotlib/font_manager.py:273: UserWarning: Matplotlib is building the font cache using fc-list. This may take a moment.\n",
      "  warnings.warn('Matplotlib is building the font cache using fc-list. This may take a moment.')\n"
     ]
    }
   ],
   "source": [
    "import scipy.linalg as la\n",
    "import os,sys,inspect\n",
    "currentdir = os.path.dirname(os.path.abspath(inspect.getfile(inspect.currentframe())))\n",
    "parentdir = os.path.dirname(currentdir)\n",
    "sys.path.insert(0,parentdir) \n",
    "import numpy as np\n",
    "from helper_functions.grape_functions import *\n",
    "from main_grape.Grape import Grape\n",
    "%pylab inline\n",
    "\n"
   ]
  },
  {
   "cell_type": "code",
   "execution_count": 2,
   "metadata": {
    "collapsed": false
   },
   "outputs": [
    {
     "name": "stdout",
     "output_type": "stream",
     "text": [
      "['all x']\n"
     ]
    }
   ],
   "source": [
    "qubit_num = 3\n",
    "\n",
    "\n",
    "#Defining time scales\n",
    "total_time = 1.0\n",
    "steps = 50\n",
    "\n",
    "\n",
    "state_transfer = True\n",
    "#Defining H0\n",
    "qubit_state_num = 2\n",
    "freq_ge = 3.9#GHz\n",
    "g = 2*np.pi*0.5 #GHz\n",
    "\n",
    "ens = np.array([ 2*np.pi*ii*(freq_ge) for ii in np.arange(qubit_state_num)])\n",
    "Q_x   = np.diag(np.sqrt(np.arange(1,qubit_state_num)),1)+np.diag(np.sqrt(np.arange(1,qubit_state_num)),-1)\n",
    "Q_y   = (0+1j) *(np.diag(np.sqrt(np.arange(1,qubit_state_num)),1)-np.diag(np.sqrt(np.arange(1,qubit_state_num)),-1))\n",
    "Q_z   = np.diag(np.arange(0,qubit_state_num))\n",
    "I_q = np.identity(qubit_state_num)\n",
    "H_q = np.diag(ens)\n",
    "\n",
    "g_op = nn_chain_kron(Q_x, I_q, qubit_num, qubit_state_num)\n",
    "\n",
    "#g_op_test = np.kron(np.kron(np.kron(Q_x,Q_x),I_q),I_q) + np.kron(np.kron(np.kron(I_q,Q_x),Q_x),I_q) + np.kron(np.kron(np.kron(I_q,I_q),Q_x),Q_x)\n",
    "#print np.allclose(g_op, g_op_test)\n",
    "\n",
    "H0 = kron_all(H_q,qubit_num, I_q) + g * g_op\n",
    "\n",
    "# Defining dressed info\n",
    "is_dressed = True\n",
    "w_c, v_c, dressed_id = get_dressed_info(H0)\n",
    "dressed_info = {'dressed_id':dressed_id, 'eigenvectors':v_c, 'eigenvalues':w_c,'is_dressed':is_dressed}\n",
    "\n",
    "\n",
    "#Defining Concerned states (starting states)\n",
    "\n",
    "psi0=[0]\n",
    "\n",
    "all_ones_index = 0\n",
    "for ii in range (qubit_num):\n",
    "    all_ones_index = all_ones_index + qubit_state_num**ii\n",
    "#Defining states to include in the drawing of occupation\n",
    "states_draw_list = [0,all_ones_index]\n",
    "states_draw_names = ['00..0','11..1']\n",
    "\n",
    "#Defining U (Target)\n",
    "\n",
    "if is_dressed:\n",
    "    \n",
    "    gg = get_state_index(0,dressed_id) #[ee]\n",
    "    ee = get_state_index(all_ones_index,dressed_id) #[eg]\n",
    "    \n",
    "    target_vec = np.zeros(qubit_state_num**qubit_num,dtype=complex)\n",
    "    target_vec = target_vec +  (1)/np.sqrt(2)*v_c[:,gg] + (1)/np.sqrt(2)*v_c[:,ee]\n",
    "    \n",
    "    U = [target_vec]\n",
    "\n",
    "else:   \n",
    "    target_vec = np.zeros(qubit_state_num**qubit_num,dtype=complex)\n",
    "    target_vec[0]=(1)/np.sqrt(2)\n",
    "    target_vec[all_ones_index]=1/np.sqrt(2)\n",
    "\n",
    "    U = [target_vec]\n",
    "\n",
    "\n",
    "\n",
    "#Defining U0 (Initial)\n",
    "q_identity = np.identity(qubit_state_num**qubit_num)\n",
    "U0= q_identity\n",
    "\n",
    "#Defining control Hs\n",
    "\n",
    "Hops = []\n",
    "Hnames = []\n",
    "ops_max_amp = []\n",
    "\n",
    "Q_xx = multi_kron(Q_x,qubit_num)\n",
    "Hops.extend([Q_xx])\n",
    "Hnames.extend(['all x'])\n",
    "ops_max_amp.extend([2.0])\n",
    "\n",
    "print Hnames\n",
    "\n",
    "\n",
    "#Defining convergence parameters\n",
    "max_iterations = 100\n",
    "decay = 500 #max_iterations/2\n",
    "convergence = {'rate':0.10, 'update_step':10,'max_iterations':max_iterations,\\\n",
    "               'conv_target':1e-3,'learning_rate_decay':decay,'min_grad':1e-60}\n",
    "\n",
    "reg_coeffs = {}\n",
    "\n"
   ]
  },
  {
   "cell_type": "code",
   "execution_count": 3,
   "metadata": {
    "collapsed": false
   },
   "outputs": [],
   "source": [
    "#import h5py\n",
    "\n",
    "#with h5py.File('/home/nelson/Simulations/GRAPE-Data/spin_chain_ghz/00000_spin_chain_ghz_N8.h5','r') as hf:\n",
    "#    u0 = np.array(hf.get('uks'))[31]\n",
    "\n",
    "u0 = None"
   ]
  },
  {
   "cell_type": "code",
   "execution_count": null,
   "metadata": {
    "collapsed": false,
    "scrolled": false
   },
   "outputs": [
    {
     "name": "stdout",
     "output_type": "stream",
     "text": [
      "Using 6 Taylor terms and 0 Scaling & Squaring terms\n",
      "Building graph:\n",
      "Propagators initialized.\n",
      "Operators weight initialized.\n",
      "Vectors initialized.\n",
      "Training loss initialized.\n",
      "Optimizer initialized."
     ]
    }
   ],
   "source": [
    "\n",
    "uks,U_final = Grape(H0,Hops,Hnames,U,total_time,steps,psi0,convergence=convergence, draw = [states_draw_list,states_draw_names], \n",
    "                    state_transfer=True, use_gpu = False,\n",
    "                    show_plots = False, Taylor_terms = [6,0],\n",
    "       unitary_error = 1e-6, method = 'Adam',  maxA=ops_max_amp,\\\n",
    "                   dressed_info = dressed_info, reg_coeffs=reg_coeffs, file_name='nk_cpu2_spin_chain_ghz_N%d' %(qubit_num), initial_guess=u0,\n",
    "                    data_path = '/home/nelson/Simulations/GRAPE-Data/benchmark')\n",
    "      \n",
    "      "
   ]
  },
  {
   "cell_type": "code",
   "execution_count": null,
   "metadata": {
    "collapsed": true
   },
   "outputs": [],
   "source": []
  }
 ],
 "metadata": {
  "kernelspec": {
   "display_name": "Python 2",
   "language": "python",
   "name": "python2"
  },
  "language_info": {
   "codemirror_mode": {
    "name": "ipython",
    "version": 2
   },
   "file_extension": ".py",
   "mimetype": "text/x-python",
   "name": "python",
   "nbconvert_exporter": "python",
   "pygments_lexer": "ipython2",
   "version": "2.7.6"
  }
 },
 "nbformat": 4,
 "nbformat_minor": 0
}
