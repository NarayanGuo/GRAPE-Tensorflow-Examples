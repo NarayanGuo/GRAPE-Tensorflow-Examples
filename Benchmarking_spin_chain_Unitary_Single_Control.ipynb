{
 "cells": [
  {
   "cell_type": "code",
   "execution_count": null,
   "metadata": {
    "collapsed": false,
    "scrolled": false
   },
   "outputs": [],
   "source": [
    "import scipy.linalg as la\n",
    "import os,sys,inspect\n",
    "currentdir = os.path.dirname(os.path.abspath(inspect.getfile(inspect.currentframe())))\n",
    "parentdir = os.path.dirname(currentdir)\n",
    "sys.path.insert(0,parentdir) \n",
    "import numpy as np\n",
    "from helper_functions.grape_functions import *\n",
    "from main_grape.Grape import Grape\n",
    "%pylab inline\n",
    "\n"
   ]
  },
  {
   "cell_type": "code",
   "execution_count": null,
   "metadata": {
    "collapsed": false
   },
   "outputs": [],
   "source": [
    "qubit_num = 3\n",
    "\n",
    "\n",
    "#Defining time scales\n",
    "total_time = 0.5\n",
    "steps = 100\n",
    "\n",
    "\n",
    "\n",
    "state_transfer = False\n",
    "#Defining H0\n",
    "qubit_state_num = 2\n",
    "freq_ge = 3.9#GHz\n",
    "g = 2*np.pi*0.5 #GHz\n",
    "\n",
    "ens = np.array([ 2*np.pi*ii*(freq_ge) for ii in np.arange(qubit_state_num)])\n",
    "Q_x   = np.diag(np.sqrt(np.arange(1,qubit_state_num)),1)+np.diag(np.sqrt(np.arange(1,qubit_state_num)),-1)\n",
    "Q_y   = (0+1j) *(np.diag(np.sqrt(np.arange(1,qubit_state_num)),1)-np.diag(np.sqrt(np.arange(1,qubit_state_num)),-1))\n",
    "Q_z   = np.diag(np.arange(0,qubit_state_num))\n",
    "I_q = np.identity(qubit_state_num)\n",
    "H_q = np.diag(ens)\n",
    "\n",
    "X = multi_kron(Q_x,qubit_num)\n",
    "Z = multi_kron(Q_z,qubit_num)\n",
    "Y = multi_kron(Q_y,qubit_num)\n",
    "\n",
    "g_op = nn_chain_kron(Q_x, I_q, qubit_num, qubit_state_num)\n",
    "\n",
    "\n",
    "H0 = kron_all(H_q,qubit_num, I_q) + g * g_op\n",
    "\n",
    "# Defining dressed info\n",
    "is_dressed = True\n",
    "w_c, v_c, dressed_id = get_dressed_info(H0)\n",
    "dressed_info = {'dressed_id':dressed_id, 'eigenvectors':v_c, 'eigenvalues':w_c,'is_dressed':is_dressed}\n",
    "\n",
    "\n",
    "#Defining Concerned states (starting states)\n",
    "\n",
    "psi0 = concerned(qubit_num,qubit_state_num)\n",
    "\n",
    "\n",
    "\n",
    "#Defining states to include in the drawing of occupation\n",
    "states_draw_list = range(qubit_state_num**qubit_num)\n",
    "states_draw_names =[]\n",
    "for ii in states_draw_list:\n",
    "    states_draw_names.append(Basis(ii,qubit_num,qubit_state_num))\n",
    "#Defining U (Target)\n",
    "\n",
    "if is_dressed:\n",
    "\n",
    "    U = dressed_unitary(qft(qubit_num),v_c,dressed_id)\n",
    "\n",
    "else:   \n",
    "    U= transmon_gate(qft(qubit_num),qubit_state_num)\n",
    "\n",
    "\n",
    "\n",
    "#Defining U0 (Initial)\n",
    "q_identity = np.identity(qubit_state_num**qubit_num)\n",
    "U0= q_identity\n",
    "\n",
    "#Defining control Hs\n",
    "\n",
    "Hops = []\n",
    "Hnames = []\n",
    "ops_max_amp = []\n",
    "Q_xx = multi_kron(Q_x,qubit_num)\n",
    "Hops.extend([Q_xx])\n",
    "Hnames.extend(['all x'])\n",
    "ops_max_amp.extend([2.0])\n",
    "\n",
    "\n",
    "print Hnames\n",
    "\n",
    "#Defining convergence parameters\n",
    "max_iterations = 200\n",
    "decay = 500 #max_iterations/2\n",
    "convergence = {'rate':0.10, 'update_step':1, 'max_iterations':max_iterations,\\\n",
    "               'conv_target':1e-3,'learning_rate_decay':decay,'min_grad':1e-60}\n",
    "\n",
    "reg_coeffs = {}\n",
    "\n"
   ]
  },
  {
   "cell_type": "code",
   "execution_count": null,
   "metadata": {
    "collapsed": false
   },
   "outputs": [],
   "source": [
    "#import h5py\n",
    "\n",
    "#with h5py.File('/home/nelson/Simulations/GRAPE-Data/spin_chain_ghz/00000_spin_chain_ghz_N8.h5','r') as hf:\n",
    "#    u0 = np.array(hf.get('uks'))[31]\n",
    "\n",
    "u0 = None"
   ]
  },
  {
   "cell_type": "code",
   "execution_count": null,
   "metadata": {
    "collapsed": false,
    "scrolled": false
   },
   "outputs": [],
   "source": [
    "uks,U_final = Grape(H0,Hops,Hnames,U,total_time,steps,psi0,convergence=convergence, draw = [states_draw_list,states_draw_names],  \n",
    "                    \n",
    "                    show_plots = False, use_gpu = True,\n",
    "       Taylor_terms = [6,0], switch = False,  maxA=ops_max_amp,\\\n",
    "                   dressed_info = dressed_info, method = 'Adam', reg_coeffs=reg_coeffs,\n",
    "                    file_name='nk_unitary_gpu_N%d' %(qubit_num), \n",
    "                    data_path = '/home/nelson/Simulations/GRAPE-Data/benchmark')\n",
    "      \n",
    "      "
   ]
  },
  {
   "cell_type": "code",
   "execution_count": null,
   "metadata": {
    "collapsed": true
   },
   "outputs": [],
   "source": []
  }
 ],
 "metadata": {
  "kernelspec": {
   "display_name": "Python 2",
   "language": "python",
   "name": "python2"
  },
  "language_info": {
   "codemirror_mode": {
    "name": "ipython",
    "version": 2
   },
   "file_extension": ".py",
   "mimetype": "text/x-python",
   "name": "python",
   "nbconvert_exporter": "python",
   "pygments_lexer": "ipython2",
   "version": "2.7.6"
  }
 },
 "nbformat": 4,
 "nbformat_minor": 0
}
