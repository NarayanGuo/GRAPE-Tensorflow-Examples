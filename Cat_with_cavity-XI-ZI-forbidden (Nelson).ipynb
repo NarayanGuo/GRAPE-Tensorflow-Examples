{
 "cells": [
  {
   "cell_type": "code",
   "execution_count": null,
   "metadata": {
    "collapsed": false,
    "scrolled": false
   },
   "outputs": [],
   "source": [
    "import scipy.linalg as la\n",
    "from scipy.special import factorial\n",
    "import os,sys,inspect\n",
    "currentdir = os.path.dirname(os.path.abspath(inspect.getfile(inspect.currentframe())))\n",
    "parentdir = os.path.dirname(currentdir)\n",
    "sys.path.insert(0,parentdir) \n",
    "import numpy as np\n",
    "from helper_functions.grape_functions import *\n",
    "from main_grape.Grape import Grape\n",
    "%pylab inline\n",
    "\n"
   ]
  },
  {
   "cell_type": "code",
   "execution_count": null,
   "metadata": {
    "collapsed": false
   },
   "outputs": [],
   "source": []
  },
  {
   "cell_type": "code",
   "execution_count": null,
   "metadata": {
    "collapsed": false
   },
   "outputs": [],
   "source": [
    "def coherent_state(beta):\n",
    "    coeffs = []\n",
    "    pre_factor = np.exp((-(np.abs(beta))**2)/2)\n",
    "    for ii in range(mode_state_num):\n",
    "        coeff = pre_factor * beta**ii /(np.sqrt(factorial(ii)))\n",
    "        coeffs.append(coeff)\n",
    "    return coeffs\n",
    "\n",
    "state_transfer = False\n",
    "#Defining time scales\n",
    "total_time = 100.0\n",
    "steps = 10000\n",
    "\n",
    "#Defining H0\n",
    "qubit_state_num = 4\n",
    "\n",
    "alpha = 0.224574\n",
    "freq_ge = 3.5#GHz\n",
    "ens = np.array([ 2*np.pi*ii*(freq_ge - 0.5*(ii-1)*alpha) for ii in np.arange(qubit_state_num)])\n",
    "Q_x   = np.diag(np.sqrt(np.arange(1,qubit_state_num)),1)+np.diag(np.sqrt(np.arange(1,qubit_state_num)),-1)\n",
    "Q_y   = (0+1j) *(np.diag(np.sqrt(np.arange(1,qubit_state_num)),1)-np.diag(np.sqrt(np.arange(1,qubit_state_num)),-1))\n",
    "Q_z   = np.diag(np.arange(0,qubit_state_num))\n",
    "I_q = np.identity(qubit_state_num)\n",
    "H_q = np.diag(ens)\n",
    "\n",
    "mode_state_num = 22\n",
    "qm_g =2*np.pi*0.1\n",
    "mode_freq = 4.0 #GHz\n",
    "mode_ens = np.array([ 2*np.pi*ii*(mode_freq) for ii in np.arange(mode_state_num)])\n",
    "M_x = np.diag(np.sqrt(np.arange(1,mode_state_num)),1)+np.diag(np.sqrt(np.arange(1,mode_state_num)),-1)\n",
    "M_y = (0+1j) *(np.diag(np.sqrt(np.arange(1,mode_state_num)),1)-np.diag(np.sqrt(np.arange(1,mode_state_num)),-1))\n",
    "M_z   = np.diag(np.arange(0,mode_state_num))\n",
    "H_m = np.diag(mode_ens)\n",
    "I_m = np.identity(mode_state_num)\n",
    "\n",
    "H0 = np.kron(H_q,I_m) + np.kron(I_q,H_m) +\\\n",
    "        + qm_g*np.kron(Q_x,M_x) \n",
    "XI = np.kron(Q_x,I_m)\n",
    "YI = np.kron(Q_y,I_m)\n",
    "ZI = np.kron(Q_z,I_m)\n",
    "IX = np.kron(I_q,M_x)\n",
    "IY = np.kron(I_q,M_y)\n",
    "IZ = np.kron(I_q,M_z)\n",
    "\n",
    "#Defining the coherent state\n",
    "beta = 3.0\n",
    "coeffs_1 = coherent_state(beta)\n",
    "coeffs_2 = coherent_state(- beta)\n",
    "coeffs_3 = coherent_state((0+1j)*beta)\n",
    "cat_coeffs = (1/np.sqrt(2)) * np.add(coeffs_1,coeffs_2)\n",
    "#cat_coeffs = coeffs_2\n",
    "\n",
    "cat= cat_coeffs\n",
    "cat=np.append(cat,np.zeros((qubit_state_num-1)*mode_state_num))\n",
    "print cat\n",
    "\n",
    "a=0\n",
    "for k in cat:\n",
    "    a = a+ np.abs(k)**2\n",
    "print a\n",
    "\n",
    "\n",
    "\n",
    "w_c, v_c = la.eig(H0)\n",
    "dressed=[]\n",
    "D= True\n",
    "if D:\n",
    "    for ii in range (len(v_c)):\n",
    "        index=np.argmax(np.abs(v_c[:,ii]))\n",
    "        if index not in dressed:\n",
    "            dressed.append(index)\n",
    "        else:\n",
    "            temp= (np.abs(v_c[:,ii])).tolist()\n",
    "            while index in dressed:\n",
    "                temp[index]=0\n",
    "                index=np.argmax(temp)\n",
    "            dressed.append(index)\n",
    "\n",
    "\n",
    "#Defining states to include in the drawing of occupation\n",
    "states_draw_list = range(mode_state_num)\n",
    "states_draw_names = []\n",
    "for ii in range (mode_state_num):\n",
    "    states_draw_names.append('0_'+str(ii))\n",
    "\n",
    "from helper_functions.grape_functions import get_state_index\n",
    "g0 = v_c[:,get_state_index(0,dressed)]\n",
    "if not state_transfer:\n",
    "    \n",
    "    if D:\n",
    "        cat_d = np.zeros(mode_state_num*qubit_state_num)\n",
    "    \n",
    "        for ii in range(len(cat)):\n",
    "            cat_d = cat_d + cat[ii] * v_c[:,get_state_index(ii,dressed)]\n",
    "    else:\n",
    "        cat_d = cat\n",
    "   \n",
    "    print \"cat_d inner product: \" + str(np.inner(cat_d,cat_d))\n",
    "    print \"g0 inner product: \" + str(np.inner(g0,g0))\n",
    "    U =  np.outer(cat_d,g0)\n",
    "#Defining Concerned states (starting states)\n",
    "else:\n",
    "    U = cat\n",
    "psi0=[0]\n",
    "\n",
    "#Defining states to include in the drawing of occupation\n",
    "states_draw_list = range(mode_state_num)\n",
    "states_draw_names = []\n",
    "for ii in range (mode_state_num):\n",
    "    states_draw_names.append('g_'+str(ii))\n",
    "\n",
    "\n",
    "multi_mode = {'dressed':dressed, 'vectors':v_c, 'qnum':qubit_state_num, 'mnum': mode_state_num,\\\n",
    "              'f':freq_ge, 'es':w_c, 'g1':qm_g, 'D':D, 'Interpolation':False, 'Modulation':False}\n",
    "#Defining control Hs\n",
    "\n",
    "Hops = [XI,ZI]\n",
    "Hnames =['xi','zi']\n",
    "\n",
    "#Defining convergence parameters\n",
    "max_iterations = 3000\n",
    "decay = max_iterations/2\n",
    "convergence = {'rate':0.001, 'update_step':10, 'max_iterations':max_iterations,\\\n",
    "               'conv_target':1e-3,'learning_rate_decay':decay}\n",
    "penalty_coeffs = {'envelope' : 0.0, 'dc':0, 'dwdt':0.0001,'d2wdt2':0, 'forbidden':10}\n",
    "#u0 = 1.001*np.load('data/cat-3-xi-zi total_time: 50.0, steps: 2000, size: 100_uks_initial_guess.npy')\n",
    "#u=[]\n",
    "#for ii in range(len(u0)):\n",
    "    #u.append(np.interp(np.linspace(0,total_time,steps),np.linspace(0,total_time,700),u0[ii]))\n",
    "#u0 =u\n",
    "#u0 = 4*np.ones([2,steps])\n",
    "#print dressed\n",
    "#print np.shape(u0)\n",
    "#u0 = np.reshape(u0,[2,2000])\n",
    "\n",
    "forbidden = []\n",
    "\n",
    "for ii in range(mode_state_num):\n",
    "    forbid_state = (qubit_state_num-1)*mode_state_num+ii\n",
    "    if not forbid_state in forbidden:\n",
    "        forbidden.append(forbid_state)\n",
    "        \n",
    "for ii in range(qubit_state_num):\n",
    "    forbid_state = ii*mode_state_num + (mode_state_num-1)\n",
    "    if not forbid_state in forbidden:\n",
    "        forbidden.append(forbid_state)\n",
    "        \n",
    "print forbidden"
   ]
  },
  {
   "cell_type": "code",
   "execution_count": null,
   "metadata": {
    "collapsed": false
   },
   "outputs": [],
   "source": [
    "u0 = 1.00*np.load('data/cat-3-xi-zi-forbid-r4 total_time: 100.0, steps: 4000, size: 100_iter: 520_uks-Copy1.npy')\n",
    "figure(figsize=(20,10))\n",
    "plot(np.linspace(0,100,4000),u0[0])\n",
    "plot(np.linspace(0,100,4000),u0[1])\n",
    "\n",
    "new_u0 = np.clip(u0,-0.5,0.5)\n",
    "\n",
    "figure(figsize=(20,10))\n",
    "plot(np.linspace(0,100,4000),new_u0[0])\n",
    "plot(np.linspace(0,100,4000),new_u0[1])\n",
    "\n",
    "# new_u0_x = np.interp(np.linspace(100./4000,100,4000),np.linspace(50+50./2000,100,2000),u0[0],right=0,left=0)\n",
    "# new_u0_z = np.interp(np.linspace(100./4000,100,4000),np.linspace(50+50./2000,100,2000),u0[1],right=0,left=0)\n",
    "# figure(figsize=(20,10))\n",
    "# plot(np.linspace(0,100,4000),new_u0_x)\n",
    "# plot(np.linspace(0,100,4000),new_u0_z)\n",
    "\n",
    "# new_u0 = np.zeros([2,4000])\n",
    "# new_u0[0] = new_u0_x\n",
    "# new_u0[1] = new_u0_z\n",
    "\n",
    "# new_u0.shape"
   ]
  },
  {
   "cell_type": "code",
   "execution_count": null,
   "metadata": {
    "collapsed": false
   },
   "outputs": [],
   "source": [
    "u0 = 1.00*np.load('data/cat-3-xi-zi-forbid-r10 total_time: 100.0, steps: 10000, size: 100_iter: 40_uks-Copy1.npy')\n",
    "figure(figsize=(20,10))\n",
    "plot(np.linspace(0,100,10000),u0[0])\n",
    "plot(np.linspace(0,100,10000),u0[1])\n",
    "\n",
    "\n",
    "new_u0_x = np.interp(np.linspace(100./14000,100,14000),np.linspace(100./10000,100,10000),u0[0],right=0,left=0)\n",
    "new_u0_z = np.interp(np.linspace(100./14000,100,14000),np.linspace(100./10000,100,10000),u0[1],right=0,left=0)\n",
    "figure(figsize=(20,10))\n",
    "plot(np.linspace(0,100,14000),new_u0_x)\n",
    "plot(np.linspace(0,100,14000),new_u0_z)\n",
    "\n",
    "new_u0 = np.zeros([2,14000])\n",
    "new_u0[0] = new_u0_x\n",
    "new_u0[1] = new_u0_z\n",
    "\n",
    "new_u0.shape"
   ]
  },
  {
   "cell_type": "code",
   "execution_count": null,
   "metadata": {
    "collapsed": true
   },
   "outputs": [],
   "source": [
    "new_u0 = np.load('data/cat-3-xi-zi-forbid-r10 total_time: 100.0, steps: 10000, size: 100_iter: 40_uks-Copy1.npy')"
   ]
  },
  {
   "cell_type": "code",
   "execution_count": null,
   "metadata": {
    "collapsed": false
   },
   "outputs": [],
   "source": [
    "uks,U_final = Grape(H0,Hops,Hnames,U,total_time,steps,psi0,convergence=convergence, draw = [states_draw_list,states_draw_names],  \n",
    "                    state_transfer=state_transfer, \n",
    "                    show_plots =False, gate = \"cat-3-xi-zi-forbid-r11\", \n",
    "       unitary_error = 1e-4, method = 'Adam',switch = False, forbidden = forbidden,initial_guess = new_u0\n",
    "                    ,penalty_coeffs = penalty_coeffs,multi_mode=multi_mode)"
   ]
  },
  {
   "cell_type": "code",
   "execution_count": null,
   "metadata": {
    "collapsed": false
   },
   "outputs": [],
   "source": [
    "import numpy as np\n",
    "np.linspace(50+50./2000,100,2000)"
   ]
  },
  {
   "cell_type": "code",
   "execution_count": null,
   "metadata": {
    "collapsed": true
   },
   "outputs": [],
   "source": []
  },
  {
   "cell_type": "code",
   "execution_count": null,
   "metadata": {
    "collapsed": false
   },
   "outputs": [],
   "source": [
    "#np.save('cat_2',uks)\n",
    "np.save('cat_no_cav_x',uks)\n",
    "a = np.load('final.npy')\n",
    "b = np.load('target.npy')\n",
    "a = a[:60] + (0+1j) * a[60:]\n",
    "b = b[:60] + (0+1j) * b[60:]\n",
    "v_sorted=sort_ev(v_c,dressed)\n",
    "\n",
    "d= np.dot(np.transpose(v_sorted),a)\n",
    "\n",
    "target = []\n",
    "final = []\n",
    "for ii in range(60):\n",
    "    #print np.square(np.abs(np.dot(v_c[get_state_index(ii,dressed)],a))),np.square(cat[ii]),np.square(np.abs(d[ii]))\n",
    "    target.append(np.square(cat[ii]))\n",
    "    final.append(np.square(np.abs(d[ii])))\n",
    "\n",
    "plt.figure(figsize=(15,7))\n",
    "plt.subplot(121)\n",
    "\n",
    "plt.plot(target[0:15])\n",
    "plt.xlabel('Cavity mode #')\n",
    "plt.ylabel('Population')\n",
    "plt.title('Target Cavity Populations')\n",
    "plt.subplot(122)\n",
    "plt.plot(final[0:15])\n",
    "plt.xlabel('Cavity mode #')\n",
    "plt.ylabel('Population')\n",
    "plt.title('Acheived Cavity Populations')\n"
   ]
  },
  {
   "cell_type": "code",
   "execution_count": null,
   "metadata": {
    "collapsed": false
   },
   "outputs": [],
   "source": [
    "from main_grape.Evolve import Evolve\n",
    "Evolve(H0,Hops,total_time,steps,psi0,uks, U=U , draw = [states_draw_list,states_draw_names], Hnames = Hnames)\n"
   ]
  },
  {
   "cell_type": "markdown",
   "metadata": {
    "collapsed": false,
    "scrolled": false
   },
   "source": [
    "### "
   ]
  }
 ],
 "metadata": {
  "kernelspec": {
   "display_name": "Python 2",
   "language": "python",
   "name": "python2"
  },
  "language_info": {
   "codemirror_mode": {
    "name": "ipython",
    "version": 2
   },
   "file_extension": ".py",
   "mimetype": "text/x-python",
   "name": "python",
   "nbconvert_exporter": "python",
   "pygments_lexer": "ipython2",
   "version": "2.7.6"
  }
 },
 "nbformat": 4,
 "nbformat_minor": 0
}
