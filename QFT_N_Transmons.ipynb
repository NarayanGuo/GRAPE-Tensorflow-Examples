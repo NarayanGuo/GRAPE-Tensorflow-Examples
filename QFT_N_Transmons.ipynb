{
 "cells": [
  {
   "cell_type": "code",
   "execution_count": 1,
   "metadata": {
    "collapsed": false,
    "scrolled": false
   },
   "outputs": [
    {
     "name": "stdout",
     "output_type": "stream",
     "text": [
      "Populating the interactive namespace from numpy and matplotlib\n"
     ]
    },
    {
     "name": "stderr",
     "output_type": "stream",
     "text": [
      "/usr/local/lib/python2.7/dist-packages/matplotlib/font_manager.py:273: UserWarning: Matplotlib is building the font cache using fc-list. This may take a moment.\n",
      "  warnings.warn('Matplotlib is building the font cache using fc-list. This may take a moment.')\n"
     ]
    }
   ],
   "source": [
    "import numpy as np\n",
    "import os,sys,inspect\n",
    "currentdir = os.path.dirname(os.path.abspath(inspect.getfile(inspect.currentframe())))\n",
    "parentdir = os.path.dirname(currentdir)\n",
    "sys.path.insert(0,parentdir) \n",
    "from main_grape.Grape import Grape\n",
    "from helper_functions.grape_functions import *\n",
    "%pylab inline\n",
    "\n",
    "\n"
   ]
  },
  {
   "cell_type": "code",
   "execution_count": 2,
   "metadata": {
    "collapsed": false
   },
   "outputs": [
    {
     "name": "stdout",
     "output_type": "stream",
     "text": [
      "['0000000', '0000001', '0000010', '0000011', '0000100', '0000101', '0000110', '0000111', '0001000', '0001001', '0001010', '0001011', '0001100', '0001101', '0001110', '0001111', '0010000', '0010001', '0010010', '0010011', '0010100', '0010101', '0010110', '0010111', '0011000', '0011001', '0011010', '0011011', '0011100', '0011101', '0011110', '0011111', '0100000', '0100001', '0100010', '0100011', '0100100', '0100101', '0100110', '0100111', '0101000', '0101001', '0101010', '0101011', '0101100', '0101101', '0101110', '0101111', '0110000', '0110001', '0110010', '0110011', '0110100', '0110101', '0110110', '0110111', '0111000', '0111001', '0111010', '0111011', '0111100', '0111101', '0111110', '0111111', '1000000', '1000001', '1000010', '1000011', '1000100', '1000101', '1000110', '1000111', '1001000', '1001001', '1001010', '1001011', '1001100', '1001101', '1001110', '1001111', '1010000', '1010001', '1010010', '1010011', '1010100', '1010101', '1010110', '1010111', '1011000', '1011001', '1011010', '1011011', '1011100', '1011101', '1011110', '1011111', '1100000', '1100001', '1100010', '1100011', '1100100', '1100101', '1100110', '1100111', '1101000', '1101001', '1101010', '1101011', '1101100', '1101101', '1101110', '1101111', '1110000', '1110001', '1110010', '1110011', '1110100', '1110101', '1110110', '1110111', '1111000', '1111001', '1111010', '1111011', '1111100', '1111101', '1111110', '1111111']\n",
      "['xiiiiii', 'ixiiiii', 'iixiiii', 'iiixiii', 'iiiixii', 'iiiiixi', 'iiiiiix', 'yiiiiii', 'iyiiiii', 'iiyiiii', 'iiiyiii', 'iiiiyii', 'iiiiiyi', 'iiiiiiy', 'ziiiiii', 'iziiiii', 'iiziiii', 'iiiziii', 'iiiizii', 'iiiiizi', 'iiiiiiz', 'all x', 'all y', 'all z']\n",
      "(128, 128)\n",
      "(24, 128, 128)\n"
     ]
    }
   ],
   "source": [
    "\n",
    "#Defining time scales\n",
    "\n",
    "qubit_num = 7\n",
    "steps = 200*qubit_num\n",
    "total_time = 1.5*qubit_num\n",
    "qubit_state_num = 2\n",
    "\n",
    "       \n",
    "\n",
    "#Defining Forbidden sates\n",
    "\n",
    "#states_forbidden_list = []\n",
    "\n",
    "#Defining Concerned states (starting states)\n",
    "psi0 = concerned(qubit_num,qubit_state_num)\n",
    "\n",
    "#Defining states to include in the drawing of occupation\n",
    "states_draw_list = range(qubit_state_num**qubit_num)\n",
    "states_draw_names =[]\n",
    "for ii in states_draw_list:\n",
    "    states_draw_names.append(Basis(ii,qubit_num,qubit_state_num))\n",
    "\n",
    "#Defining U (Target)\n",
    "\n",
    "U= transmon_gate(qft(qubit_num),qubit_state_num)\n",
    "#U = np.diag(np.arange(0,4))\n",
    "\n",
    "#Defining U0 (Initial)\n",
    "qq_identity = np.identity(qubit_state_num**qubit_num)\n",
    "U0= qq_identity\n",
    "\n",
    "#Defining control Hs\n",
    "Q_x   = np.diag(np.sqrt(np.arange(1,qubit_state_num)),1)+np.diag(np.sqrt(np.arange(1,qubit_state_num)),-1)\n",
    "Q_y   = (0+1j) *(np.diag(np.sqrt(np.arange(1,qubit_state_num)),1)-np.diag(np.sqrt(np.arange(1,qubit_state_num)),-1))\n",
    "Q_z   = np.diag(np.arange(0,qubit_state_num))\n",
    "Q_I = np.identity(qubit_state_num)\n",
    "\n",
    "Q_xx = multi_kron(Q_x,qubit_num)\n",
    "Q_yy = multi_kron(Q_y,qubit_num)\n",
    "Q_zz = multi_kron(Q_z,qubit_num)\n",
    "\n",
    "H0 = 0.5* (Q_xx+Q_yy+Q_zz)\n",
    "\n",
    "Hops = []\n",
    "Hnames = []\n",
    "ops_max_amp = []\n",
    "Hops,Hnames,ops_max_amp = append_separate_krons(Q_x,'x',qubit_num,qubit_state_num,Hops,Hnames,ops_max_amp,amp=6.0)\n",
    "Hops,Hnames,ops_max_amp = append_separate_krons(Q_y,'y',qubit_num,qubit_state_num,Hops,Hnames,ops_max_amp,amp=6.0)\n",
    "Hops,Hnames,ops_max_amp = append_separate_krons(Q_z,'z',qubit_num,qubit_state_num,Hops,Hnames,ops_max_amp,amp=6.0)\n",
    "Hops.extend([Q_xx,Q_yy,Q_zz])\n",
    "Hnames.extend(['all x','all y','all z'])\n",
    "ops_max_amp.extend([6.0,6.0,6.0])\n",
    "\n",
    "#Defining convergence parameters\n",
    "max_iterations = 5000\n",
    "decay = max_iterations/2\n",
    "convergence = {'rate':0.05, 'update_step':100, 'max_iterations':max_iterations,\\\n",
    "               'conv_target':1e-3,'learning_rate_decay':decay}\n",
    "penalty_coeffs = {'envelope' : 0, 'dc':0, 'dwdt':0,'d2wdt2':0, 'forbidden':0}\n",
    "#multi_mode = {'dressed':dressed, 'vectors':v_c, 'qnum':qubit_state_num, 'mnum': mode_state_num,\\\n",
    "              #'f':freq_ge, 'es':w_c, 'g1':qm_g1, 'D':D, 'Interpolation':True, 'Modulation':True}\n",
    "\n",
    "print states_draw_names\n",
    "print Hnames\n",
    "print np.shape(U)\n",
    "print np.shape(Hops)\n",
    "\n",
    "\n",
    "\n"
   ]
  },
  {
   "cell_type": "code",
   "execution_count": 3,
   "metadata": {
    "collapsed": false,
    "scrolled": false
   },
   "outputs": [
    {
     "ename": "TypeError",
     "evalue": "'NoneType' object is not iterable",
     "output_type": "error",
     "traceback": [
      "\u001b[1;31m---------------------------------------------------------------------------\u001b[0m",
      "\u001b[1;31mTypeError\u001b[0m                                 Traceback (most recent call last)",
      "\u001b[1;32m<ipython-input-3-c54a4eb787e3>\u001b[0m in \u001b[0;36m<module>\u001b[1;34m()\u001b[0m\n\u001b[0;32m      3\u001b[0m \u001b[1;31m#maxA = ops_max_amp,use_gpu = True\u001b[0m\u001b[1;33m\u001b[0m\u001b[1;33m\u001b[0m\u001b[0m\n\u001b[0;32m      4\u001b[0m uks,Uf=Grape(H0,Hops,Hnames,U,total_time,steps,psi0,convergence,penalty_coeffs = penalty_coeffs, use_gpu = True, maxA = ops_max_amp,\n\u001b[1;32m----> 5\u001b[1;33m      draw = [states_draw_list,states_draw_names], show_plots = False, method = 'L-BFGS-B', unitary_error = 1e-4,switch=False, gate ='QFT')\n\u001b[0m",
      "\u001b[1;31mTypeError\u001b[0m: 'NoneType' object is not iterable"
     ]
    }
   ],
   "source": [
    " #Extra options\n",
    "#reg_coeffs = reg_coeffs,draw = [states_draw_list,states_draw_names] ,forbidden = states_forbidden_list,multi_mode = multi_mode,\n",
    "#maxA = ops_max_amp,use_gpu = True\n",
    "uks,Uf=Grape(H0,Hops,Hnames,U,total_time,steps,psi0,convergence,penalty_coeffs = penalty_coeffs, use_gpu = True, maxA = ops_max_amp,\n",
    "      draw = [states_draw_list,states_draw_names], show_plots = False, method = 'L-BFGS-B', unitary_error = 1e-4,switch=False, gate ='QFT')"
   ]
  },
  {
   "cell_type": "code",
   "execution_count": null,
   "metadata": {
    "collapsed": true
   },
   "outputs": [],
   "source": [
    "np.save('QFT_'+str(qubit_num),uks)"
   ]
  }
 ],
 "metadata": {
  "kernelspec": {
   "display_name": "Python 2",
   "language": "python",
   "name": "python2"
  },
  "language_info": {
   "codemirror_mode": {
    "name": "ipython",
    "version": 2
   },
   "file_extension": ".py",
   "mimetype": "text/x-python",
   "name": "python",
   "nbconvert_exporter": "python",
   "pygments_lexer": "ipython2",
   "version": "2.7.6"
  }
 },
 "nbformat": 4,
 "nbformat_minor": 0
}
