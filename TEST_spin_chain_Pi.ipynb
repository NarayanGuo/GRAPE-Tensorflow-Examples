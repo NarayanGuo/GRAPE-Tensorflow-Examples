{
 "cells": [
  {
   "cell_type": "code",
   "execution_count": 1,
   "metadata": {
    "collapsed": false,
    "scrolled": false
   },
   "outputs": [
    {
     "name": "stdout",
     "output_type": "stream",
     "text": [
      "Populating the interactive namespace from numpy and matplotlib\n"
     ]
    },
    {
     "name": "stderr",
     "output_type": "stream",
     "text": [
      "/usr/local/lib/python2.7/dist-packages/matplotlib/font_manager.py:273: UserWarning: Matplotlib is building the font cache using fc-list. This may take a moment.\n",
      "  warnings.warn('Matplotlib is building the font cache using fc-list. This may take a moment.')\n"
     ]
    }
   ],
   "source": [
    "import scipy.linalg as la\n",
    "import os,sys,inspect\n",
    "currentdir = os.path.dirname(os.path.abspath(inspect.getfile(inspect.currentframe())))\n",
    "parentdir = os.path.dirname(currentdir)\n",
    "sys.path.insert(0,parentdir) \n",
    "import numpy as np\n",
    "from helper_functions.grape_functions import *\n",
    "from main_grape.Grape import Grape\n",
    "%pylab inline\n",
    "\n"
   ]
  },
  {
   "cell_type": "code",
   "execution_count": null,
   "metadata": {
    "collapsed": false
   },
   "outputs": [
    {
     "name": "stdout",
     "output_type": "stream",
     "text": [
      "['xi', 'ix', 'zi', 'iz', 'all x', 'all z']\n"
     ]
    }
   ],
   "source": [
    "\n",
    "\n",
    "\n",
    "#Defining time scales\n",
    "total_time = 5.0\n",
    "steps = 500\n",
    "\n",
    "state_transfer = True\n",
    "#Defining H0\n",
    "qubit_state_num = 2\n",
    "qubit_num = 2\n",
    "freq_ge = 3.9#GHz\n",
    "g = 0.2 #GHz\n",
    "\n",
    "ens = np.array([ 2*np.pi*ii*(freq_ge) for ii in np.arange(qubit_state_num)])\n",
    "Q_x   = np.diag(np.sqrt(np.arange(1,qubit_state_num)),1)+np.diag(np.sqrt(np.arange(1,qubit_state_num)),-1)\n",
    "Q_y   = (0+1j) *(np.diag(np.sqrt(np.arange(1,qubit_state_num)),1)-np.diag(np.sqrt(np.arange(1,qubit_state_num)),-1))\n",
    "Q_z   = np.diag(np.arange(0,qubit_state_num))\n",
    "I_q = np.identity(qubit_state_num)\n",
    "H_q = np.diag(ens)\n",
    "\n",
    "X = multi_kron(Q_x,qubit_num)\n",
    "Z = multi_kron(Q_z,qubit_num)\n",
    "Y = multi_kron(Q_y,qubit_num)\n",
    "\n",
    "H0 = kron_all(H_q,qubit_num, I_q)# + g*X\n",
    "\n",
    "\n",
    "#Defining Concerned states (starting states)\n",
    "\n",
    "\n",
    "\n",
    "all_ones_index = 0\n",
    "for ii in range (qubit_num):\n",
    "    all_ones_index = all_ones_index + qubit_state_num**ii\n",
    "#Defining states to include in the drawing of occupation\n",
    "states_draw_list = [0,all_ones_index]\n",
    "states_draw_names = ['00..0','11..1']\n",
    "\n",
    "psi0=[0,all_ones_index]\n",
    "\n",
    "#Defining U (Target)\n",
    "\n",
    "target_vec_0 = np.zeros(qubit_state_num**qubit_num,dtype=complex)\n",
    "target_vec_0[all_ones_index]=1\n",
    "\n",
    "target_vec_1 = np.zeros(qubit_state_num**qubit_num,dtype=complex)\n",
    "target_vec_1[0]=1\n",
    "    \n",
    "U = [target_vec_0, target_vec_1]\n",
    "\n",
    "#Defining U0 (Initial)\n",
    "q_identity = np.identity(qubit_state_num**qubit_num)\n",
    "U0= q_identity\n",
    "\n",
    "#Defining control Hs\n",
    "\n",
    "Hops = []\n",
    "Hnames = []\n",
    "ops_max_amp = []\n",
    "Hops,Hnames,ops_max_amp = append_separate_krons(Q_x,'x',qubit_num,qubit_state_num,Hops,Hnames,ops_max_amp,amp=8.0)\n",
    "Hops,Hnames,ops_max_amp = append_separate_krons(Q_z,'z',qubit_num,qubit_state_num,Hops,Hnames,ops_max_amp,amp=8.0)\n",
    "Hops.extend([X,Z])\n",
    "Hnames.extend(['all x','all z'])\n",
    "ops_max_amp.extend([8.0,8.0])\n",
    "\n",
    "print Hnames\n",
    "\n",
    "#Defining convergence parameters\n",
    "max_iterations = 1000\n",
    "decay = max_iterations/2\n",
    "convergence = {'rate':0.001, 'update_step':1, 'max_iterations':max_iterations,\\\n",
    "               'conv_target':1e-4,'learning_rate_decay':decay}\n",
    "\n",
    "states_forbidden_list = [all_ones_index]\n",
    "\n",
    "reg_coeffs = {'dwdt':0.0001,'d2wdt2':0.0001*0.001, 'forbidden':10000,\n",
    "             'states_forbidden_list': states_forbidden_list}\n"
   ]
  },
  {
   "cell_type": "code",
   "execution_count": null,
   "metadata": {
    "collapsed": false,
    "scrolled": false
   },
   "outputs": [],
   "source": [
    " #Extra options\n",
    "#reg_coeffs = reg_coeffs,draw = [states_draw_list,states_draw_names] ,forbidden = states_forbidden_list,multi_mode = multi_mode,\n",
    "#maxA = ops_max_amp,use_gpu = True\n",
    "\n",
    "uks,U_final = Grape(H0,Hops,Hnames,U,total_time,steps,psi0,convergence=convergence, draw = [states_draw_list,states_draw_names],\n",
    "                    state_transfer=True,\n",
    "                    show_plots = True, \n",
    "       unitary_error = 1e-6, method = 'L-BFGS-B',switch = False,  maxA=ops_max_amp,\\\n",
    "                   reg_coeffs=reg_coeffs, file_name='spin_chain_ghz',\n",
    "                    data_path = '/home/nelson/Simulations/GRAPE-Data/spin_chain_ghz')\n",
    "      \n",
    "      "
   ]
  },
  {
   "cell_type": "code",
   "execution_count": null,
   "metadata": {
    "collapsed": false,
    "scrolled": false
   },
   "outputs": [],
   "source": []
  }
 ],
 "metadata": {
  "kernelspec": {
   "display_name": "Python 2",
   "language": "python",
   "name": "python2"
  },
  "language_info": {
   "codemirror_mode": {
    "name": "ipython",
    "version": 2
   },
   "file_extension": ".py",
   "mimetype": "text/x-python",
   "name": "python",
   "nbconvert_exporter": "python",
   "pygments_lexer": "ipython2",
   "version": "2.7.6"
  }
 },
 "nbformat": 4,
 "nbformat_minor": 0
}
