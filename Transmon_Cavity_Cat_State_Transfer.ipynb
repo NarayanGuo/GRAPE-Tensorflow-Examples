{
 "cells": [
  {
   "cell_type": "code",
   "execution_count": 1,
   "metadata": {
    "collapsed": false,
    "scrolled": false
   },
   "outputs": [
    {
     "name": "stdout",
     "output_type": "stream",
     "text": [
      "Populating the interactive namespace from numpy and matplotlib\n"
     ]
    },
    {
     "name": "stderr",
     "output_type": "stream",
     "text": [
      "/usr/local/lib/python2.7/dist-packages/matplotlib/font_manager.py:273: UserWarning: Matplotlib is building the font cache using fc-list. This may take a moment.\n",
      "  warnings.warn('Matplotlib is building the font cache using fc-list. This may take a moment.')\n"
     ]
    }
   ],
   "source": [
    "import scipy.linalg as la\n",
    "from scipy.special import factorial\n",
    "import os,sys,inspect\n",
    "currentdir = os.path.dirname(os.path.abspath(inspect.getfile(inspect.currentframe())))\n",
    "parentdir = os.path.dirname(currentdir)\n",
    "sys.path.insert(0,parentdir) \n",
    "import numpy as np\n",
    "from helper_functions.grape_functions import *\n",
    "from main_grape.Grape import Grape\n",
    "%pylab inline\n",
    "import h5py\n"
   ]
  },
  {
   "cell_type": "code",
   "execution_count": 2,
   "metadata": {
    "collapsed": false
   },
   "outputs": [],
   "source": [
    "state_transfer = True\n",
    "\n",
    "#Defining time scales\n",
    "total_time = 100.0\n",
    "steps = 50000\n",
    "\n",
    "#Defining H0\n",
    "qubit_state_num = 5\n",
    "\n",
    "alpha = 0.225\n",
    "freq_ge = 3.5#GHz\n",
    "ens = np.array([ 2*np.pi*ii*(freq_ge - 0.5*(ii-1)*alpha) for ii in np.arange(qubit_state_num)])\n",
    "Q_x   = np.diag(np.sqrt(np.arange(1,qubit_state_num)),1)+np.diag(np.sqrt(np.arange(1,qubit_state_num)),-1)\n",
    "Q_y   = (0+1j) *(np.diag(np.sqrt(np.arange(1,qubit_state_num)),1)-np.diag(np.sqrt(np.arange(1,qubit_state_num)),-1))\n",
    "Q_z   = np.diag(np.arange(0,qubit_state_num))\n",
    "I_q = np.identity(qubit_state_num)\n",
    "H_q = np.diag(ens)\n",
    "\n",
    "mode_state_num = 25\n",
    "qm_g =2*np.pi*0.1\n",
    "mode_freq = 3.9 #GHz\n",
    "mode_ens = np.array([ 2*np.pi*ii*(mode_freq) for ii in np.arange(mode_state_num)])\n",
    "M_x = np.diag(np.sqrt(np.arange(1,mode_state_num)),1)+np.diag(np.sqrt(np.arange(1,mode_state_num)),-1)\n",
    "M_y = (0+1j) *(np.diag(np.sqrt(np.arange(1,mode_state_num)),1)-np.diag(np.sqrt(np.arange(1,mode_state_num)),-1))\n",
    "M_z   = np.diag(np.arange(0,mode_state_num))\n",
    "H_m = np.diag(mode_ens)\n",
    "I_m = np.identity(mode_state_num)\n",
    "\n",
    "H0 = np.kron(H_q,I_m) + np.kron(I_q,H_m) +\\\n",
    "        + qm_g*np.kron(Q_x,M_x) \n",
    "    \n",
    "#Defining control Hs\n",
    "\n",
    "XI = np.kron(Q_x,I_m)\n",
    "YI = np.kron(Q_y,I_m)\n",
    "ZI = np.kron(Q_z,I_m)\n",
    "IX = np.kron(I_q,M_x)\n",
    "IY = np.kron(I_q,M_y)\n",
    "IZ = np.kron(I_q,M_z)\n",
    "\n",
    "Hops = [XI,ZI]\n",
    "ops_max_amp = [2.0,2.0]\n",
    "Hnames =['xi','zi']\n",
    "\n",
    "#Defining the coherent state\n",
    "\n",
    "def coherent_state(beta):\n",
    "    coeffs = []\n",
    "    pre_factor = np.exp((-(np.abs(beta))**2)/2)\n",
    "    for ii in range(mode_state_num):\n",
    "        coeff = pre_factor * beta**ii /(np.sqrt(factorial(ii)))\n",
    "        coeffs.append(coeff)\n",
    "    return coeffs\n",
    "\n",
    "\n",
    "beta = 3.0\n",
    "coeffs_1 = coherent_state(beta)\n",
    "coeffs_2 = coherent_state(- beta)\n",
    "coeffs_3 = coherent_state((0+1j)*beta)\n",
    "cat_coeffs = (1/np.sqrt(2)) * np.add(coeffs_1,coeffs_2)\n",
    "\n",
    "cat= cat_coeffs\n",
    "cat=np.append(cat,np.zeros((qubit_state_num-1)*mode_state_num))\n",
    "\n",
    "a=0\n",
    "for k in cat:\n",
    "    a = a+ np.abs(k)**2\n",
    "\n",
    "#Defining dressed info\n",
    "\n",
    "is_dressed = True\n",
    "\n",
    "w_c, v_c, dressed_id = get_dressed_info(H0)\n",
    "\n",
    "dressed_info = {'dressed_id':dressed_id, 'eigenvectors':v_c,\\\n",
    "               'eigenvalues':w_c, 'is_dressed':is_dressed}\n",
    "\n",
    "\n",
    "#Defining states to include in the drawing of occupation\n",
    "states_draw_list = range(mode_state_num)\n",
    "states_draw_names = []\n",
    "for ii in range (mode_state_num):\n",
    "    states_draw_names.append('0_'+str(ii))\n",
    "    \n",
    "    \n",
    "#Defining target\n",
    "\n",
    "from helper_functions.grape_functions import get_state_index\n",
    "g0 = v_c[:,get_state_index(0,dressed_id)]\n",
    "if not state_transfer:\n",
    "    \n",
    "    if is_dressed:\n",
    "        cat_d = np.zeros(mode_state_num*qubit_state_num)\n",
    "    \n",
    "        for ii in range(len(cat)):\n",
    "            cat_d = cat_d + cat[ii] * v_c[:,get_state_index(ii,dressed_id)]\n",
    "    else:\n",
    "        cat_d = cat\n",
    "   \n",
    "    print \"cat_d inner product: \" + str(np.inner(cat_d,cat_d))\n",
    "    print \"g0 inner product: \" + str(np.inner(g0,g0))\n",
    "    U =  np.outer(cat_d,g0)\n",
    "\n",
    "else:\n",
    "    if is_dressed:\n",
    "        cat_d = np.zeros(mode_state_num*qubit_state_num)\n",
    "    \n",
    "        for ii in range(len(cat)):\n",
    "            cat_d = cat_d + cat[ii] * v_c[:,get_state_index(ii,dressed_id)]\n",
    "    else:\n",
    "        cat_d = cat\n",
    "        \n",
    "    U = [cat_d]\n",
    "    \n",
    "#Defining Concerned states (starting states)\n",
    "psi0=[0]\n",
    "\n",
    "#Defining states to include in the drawing of occupation\n",
    "states_draw_list = range(mode_state_num)\n",
    "states_draw_names = []\n",
    "for ii in range (mode_state_num):\n",
    "    states_draw_names.append('g_'+str(ii))\n",
    "\n",
    "\n",
    "\n",
    "#Defining convergence parameters\n",
    "max_iterations = 5000\n",
    "decay = 2000 #max_iterations/2\n",
    "convergence = {'rate':0.01, 'update_step':10, 'max_iterations':max_iterations,\\\n",
    "               'conv_target':1e-3,'learning_rate_decay':decay}\n",
    "\n",
    "\n",
    "\n",
    "\n",
    "# Defining reg coeffs\n",
    "\n",
    "states_forbidden_list = []\n",
    "\n",
    "for ii in range(mode_state_num):\n",
    "    forbid_state = (qubit_state_num-1)*mode_state_num+ii\n",
    "    if not forbid_state in states_forbidden_list:\n",
    "        states_forbidden_list.append(forbid_state)\n",
    "        \n",
    "for ii in range(mode_state_num):\n",
    "    forbid_state = (qubit_state_num-2)*mode_state_num+ii\n",
    "    if not forbid_state in states_forbidden_list:\n",
    "        states_forbidden_list.append(forbid_state)\n",
    "        \n",
    "# for ii in range(mode_state_num):\n",
    "#     forbid_state = (qubit_state_num-3)*mode_state_num+ii\n",
    "#     if not forbid_state in states_forbidden_list:\n",
    "#         states_forbidden_list.append(forbid_state)\n",
    "        \n",
    "for ii in range(qubit_state_num):\n",
    "    forbid_state = ii*mode_state_num + (mode_state_num-1)\n",
    "    if not forbid_state in states_forbidden_list:\n",
    "        states_forbidden_list.append(forbid_state)\n",
    "        \n",
    "for ii in range(qubit_state_num):\n",
    "    forbid_state = ii*mode_state_num + (mode_state_num-2)\n",
    "    if not forbid_state in states_forbidden_list:\n",
    "        states_forbidden_list.append(forbid_state)\n",
    "        \n",
    "reg_coeffs = {'envelope' : 0.0, 'dwdt':0.00001,'d2wdt2':0.00001*0.0001, 'forbidden':100,\n",
    "             'states_forbidden_list': states_forbidden_list,'forbid_dressed':True}"
   ]
  },
  {
   "cell_type": "code",
   "execution_count": 3,
   "metadata": {
    "collapsed": false
   },
   "outputs": [],
   "source": [
    "with h5py.File('/home/nelson/Simulations/GRAPE-Data/cat/00142_cat.h5','r') as hf:\n",
    "    last_u0 = np.array(hf['uks'])[-1]\n",
    "\n",
    "time_new = np.linspace(0,100,50000,endpoint=False)\n",
    "time_old = np.linspace(0,100,12000,endpoint=False)\n",
    "\n",
    "u0_0_temp = np.interp(time_new,time_old,last_u0[0])\n",
    "u0_1_temp = np.interp(time_new,time_old,last_u0[1])\n",
    "\n",
    "u0 = np.array([u0_0_temp,u0_1_temp])\n",
    "\n",
    "#u0 = None\n",
    "\n",
    "#u0 = last_u0"
   ]
  },
  {
   "cell_type": "code",
   "execution_count": 4,
   "metadata": {
    "collapsed": false
   },
   "outputs": [
    {
     "name": "stdout",
     "output_type": "stream",
     "text": [
      "Using 20 Taylor terms and 0 Scaling & Squaring terms\n",
      "Building graph:\n",
      "Propagators initialized.\n",
      "Operators weight initialized.\n",
      "Vectors initialized.\n",
      "Training loss initialized.\n",
      "Optimizer initialized.\n",
      "Utilities initialized.\n",
      "Graph built!\n",
      "Initialized\n"
     ]
    },
    {
     "name": "stderr",
     "output_type": "stream",
     "text": [
      "/home/nelson/Simulations/GRAPE-Tensorflow/core/SystemParameters.py:32: FutureWarning: comparison to `None` will result in an elementwise object comparison in the future.\n",
      "  if initial_guess!= None:\n"
     ]
    },
    {
     "ename": "ResourceExhaustedError",
     "evalue": "OOM when allocating tensor with shape[4,250,250]\n\t [[Node: n252 = Fill[T=DT_FLOAT](n250, n251)]]\n\t [[Node: gradients/matvecexp_op_31205_grad/SymbolicGradient = SymbolicGradient[Tin=[DT_FLOAT, DT_FLOAT, DT_FLOAT, DT_FLOAT], Tout=[DT_FLOAT, DT_FLOAT, DT_FLOAT], f=matvecexp_op[], _device=\"/job:localhost/replica:0/task:0/gpu:0\"](strided_slice_31207, Const_3, matvecexp_op_31204, gradients/AddN_18799)]]\n\t [[Node: pack_3/_3 = _Recv[client_terminated=false, recv_device=\"/job:localhost/replica:0/task:0/cpu:0\", send_device=\"/job:localhost/replica:0/task:0/gpu:0\", send_device_incarnation=1, tensor_name=\"edge_1556801_pack_3\", tensor_type=DT_FLOAT, _device=\"/job:localhost/replica:0/task:0/cpu:0\"]()]]",
     "output_type": "error",
     "traceback": [
      "\u001b[1;31m---------------------------------------------------------------------------\u001b[0m",
      "\u001b[1;31mResourceExhaustedError\u001b[0m                    Traceback (most recent call last)",
      "\u001b[1;32m<ipython-input-4-339fca8bb4a1>\u001b[0m in \u001b[0;36m<module>\u001b[1;34m()\u001b[0m\n\u001b[0;32m      4\u001b[0m        \u001b[0mTaylor_terms\u001b[0m \u001b[1;33m=\u001b[0m \u001b[1;33m[\u001b[0m\u001b[1;36m20\u001b[0m\u001b[1;33m,\u001b[0m\u001b[1;36m0\u001b[0m\u001b[1;33m]\u001b[0m \u001b[1;33m,\u001b[0m \u001b[0mmethod\u001b[0m \u001b[1;33m=\u001b[0m \u001b[1;34m'L-BFGS-B'\u001b[0m\u001b[1;33m,\u001b[0m\u001b[0mswitch\u001b[0m \u001b[1;33m=\u001b[0m \u001b[0mFalse\u001b[0m\u001b[1;33m,\u001b[0m\u001b[0minitial_guess\u001b[0m \u001b[1;33m=\u001b[0m \u001b[0mu0\u001b[0m\u001b[1;33m,\u001b[0m\u001b[0mmaxA\u001b[0m \u001b[1;33m=\u001b[0m \u001b[0mops_max_amp\u001b[0m\u001b[1;33m\u001b[0m\u001b[0m\n\u001b[0;32m      5\u001b[0m                     \u001b[1;33m,\u001b[0m\u001b[0mreg_coeffs\u001b[0m \u001b[1;33m=\u001b[0m \u001b[0mreg_coeffs\u001b[0m\u001b[1;33m,\u001b[0m\u001b[0mdressed_info\u001b[0m\u001b[1;33m=\u001b[0m\u001b[0mdressed_info\u001b[0m\u001b[1;33m,\u001b[0m\u001b[0mfile_name\u001b[0m \u001b[1;33m=\u001b[0m \u001b[1;34m\"cat\"\u001b[0m\u001b[1;33m\u001b[0m\u001b[0m\n\u001b[1;32m----> 6\u001b[1;33m                     , data_path = \"/home/nelson/Simulations/GRAPE-Data/cat\")\n\u001b[0m",
      "\u001b[1;32m/home/nelson/Simulations/GRAPE-Tensorflow/main_grape/Grape.pyc\u001b[0m in \u001b[0;36mGrape\u001b[1;34m(H0, Hops, Hnames, U, total_time, steps, states_concerned_list, convergence, U0, reg_coeffs, dressed_info, maxA, use_gpu, draw, initial_guess, evolve_only, show_plots, H_time_scales, unitary_error, method, state_transfer, switch, no_scaling, freq_unit, file_name, save, data_path, Taylor_terms)\u001b[0m\n\u001b[0;32m    111\u001b[0m \u001b[1;33m\u001b[0m\u001b[0m\n\u001b[0;32m    112\u001b[0m     \u001b[1;32mtry\u001b[0m\u001b[1;33m:\u001b[0m\u001b[1;33m\u001b[0m\u001b[0m\n\u001b[1;32m--> 113\u001b[1;33m         \u001b[0mSS\u001b[0m \u001b[1;33m=\u001b[0m \u001b[0mrun_session\u001b[0m\u001b[1;33m(\u001b[0m\u001b[0mtfs\u001b[0m\u001b[1;33m,\u001b[0m\u001b[0mgraph\u001b[0m\u001b[1;33m,\u001b[0m\u001b[0mconv\u001b[0m\u001b[1;33m,\u001b[0m\u001b[0msys_para\u001b[0m\u001b[1;33m,\u001b[0m\u001b[0mmethod\u001b[0m\u001b[1;33m,\u001b[0m\u001b[0mswitch\u001b[0m \u001b[1;33m=\u001b[0m \u001b[0mswitch\u001b[0m\u001b[1;33m,\u001b[0m \u001b[0mshow_plots\u001b[0m \u001b[1;33m=\u001b[0m \u001b[0msys_para\u001b[0m\u001b[1;33m.\u001b[0m\u001b[0mshow_plots\u001b[0m\u001b[1;33m,\u001b[0m \u001b[0muse_gpu\u001b[0m \u001b[1;33m=\u001b[0m \u001b[0muse_gpu\u001b[0m\u001b[1;33m)\u001b[0m\u001b[1;33m\u001b[0m\u001b[0m\n\u001b[0m\u001b[0;32m    114\u001b[0m         \u001b[1;32mreturn\u001b[0m \u001b[0mSS\u001b[0m\u001b[1;33m.\u001b[0m\u001b[0muks\u001b[0m\u001b[1;33m,\u001b[0m\u001b[0mSS\u001b[0m\u001b[1;33m.\u001b[0m\u001b[0mUf\u001b[0m\u001b[1;33m\u001b[0m\u001b[0m\n\u001b[0;32m    115\u001b[0m     \u001b[1;32mexcept\u001b[0m \u001b[0mKeyboardInterrupt\u001b[0m\u001b[1;33m:\u001b[0m\u001b[1;33m\u001b[0m\u001b[0m\n",
      "\u001b[1;32m/home/nelson/Simulations/GRAPE-Tensorflow/core/run_session.pyc\u001b[0m in \u001b[0;36m__init__\u001b[1;34m(self, tfs, graph, conv, sys_para, method, show_plots, single_simulation, switch, use_gpu)\u001b[0m\n\u001b[0;32m     41\u001b[0m \u001b[1;33m\u001b[0m\u001b[0m\n\u001b[0;32m     42\u001b[0m                 \u001b[1;32mif\u001b[0m \u001b[0mself\u001b[0m\u001b[1;33m.\u001b[0m\u001b[0msys_para\u001b[0m\u001b[1;33m.\u001b[0m\u001b[0mDts\u001b[0m\u001b[1;33m==\u001b[0m\u001b[1;33m[\u001b[0m\u001b[1;33m]\u001b[0m\u001b[1;33m:\u001b[0m\u001b[1;33m\u001b[0m\u001b[0m\n\u001b[1;32m---> 43\u001b[1;33m                     \u001b[0mg\u001b[0m\u001b[1;33m,\u001b[0m\u001b[0ml\u001b[0m\u001b[1;33m,\u001b[0m\u001b[0mrl\u001b[0m\u001b[1;33m,\u001b[0m\u001b[0muks\u001b[0m \u001b[1;33m=\u001b[0m \u001b[0mself\u001b[0m\u001b[1;33m.\u001b[0m\u001b[0msession\u001b[0m\u001b[1;33m.\u001b[0m\u001b[0mrun\u001b[0m\u001b[1;33m(\u001b[0m\u001b[1;33m[\u001b[0m\u001b[0mtfs\u001b[0m\u001b[1;33m.\u001b[0m\u001b[0mgrad_pack\u001b[0m\u001b[1;33m,\u001b[0m \u001b[0mtfs\u001b[0m\u001b[1;33m.\u001b[0m\u001b[0mloss\u001b[0m\u001b[1;33m,\u001b[0m \u001b[0mtfs\u001b[0m\u001b[1;33m.\u001b[0m\u001b[0mreg_loss\u001b[0m\u001b[1;33m,\u001b[0m\u001b[0mtfs\u001b[0m\u001b[1;33m.\u001b[0m\u001b[0mops_weight_base\u001b[0m\u001b[1;33m]\u001b[0m\u001b[1;33m,\u001b[0m \u001b[0mfeed_dict\u001b[0m\u001b[1;33m=\u001b[0m\u001b[0mself\u001b[0m\u001b[1;33m.\u001b[0m\u001b[0mfeed_dict\u001b[0m\u001b[1;33m)\u001b[0m\u001b[1;33m\u001b[0m\u001b[0m\n\u001b[0m\u001b[0;32m     44\u001b[0m                 \u001b[1;32melse\u001b[0m\u001b[1;33m:\u001b[0m\u001b[1;33m\u001b[0m\u001b[0m\n\u001b[0;32m     45\u001b[0m                     \u001b[0mg\u001b[0m\u001b[1;33m,\u001b[0m\u001b[0ml\u001b[0m\u001b[1;33m,\u001b[0m\u001b[0mrl\u001b[0m\u001b[1;33m,\u001b[0m\u001b[0muks\u001b[0m \u001b[1;33m=\u001b[0m \u001b[0mself\u001b[0m\u001b[1;33m.\u001b[0m\u001b[0msession\u001b[0m\u001b[1;33m.\u001b[0m\u001b[0mrun\u001b[0m\u001b[1;33m(\u001b[0m\u001b[1;33m[\u001b[0m\u001b[0mtfs\u001b[0m\u001b[1;33m.\u001b[0m\u001b[0mgrad_pack\u001b[0m\u001b[1;33m,\u001b[0m \u001b[0mtfs\u001b[0m\u001b[1;33m.\u001b[0m\u001b[0mloss\u001b[0m\u001b[1;33m,\u001b[0m \u001b[0mtfs\u001b[0m\u001b[1;33m.\u001b[0m\u001b[0mreg_loss\u001b[0m\u001b[1;33m,\u001b[0m\u001b[0mtfs\u001b[0m\u001b[1;33m.\u001b[0m\u001b[0mraws\u001b[0m\u001b[1;33m]\u001b[0m\u001b[1;33m,\u001b[0m \u001b[0mfeed_dict\u001b[0m\u001b[1;33m=\u001b[0m\u001b[0mself\u001b[0m\u001b[1;33m.\u001b[0m\u001b[0mfeed_dict\u001b[0m\u001b[1;33m)\u001b[0m\u001b[1;33m\u001b[0m\u001b[0m\n",
      "\u001b[1;32m/usr/local/lib/python2.7/dist-packages/tensorflow/python/client/session.pyc\u001b[0m in \u001b[0;36mrun\u001b[1;34m(self, fetches, feed_dict, options, run_metadata)\u001b[0m\n\u001b[0;32m    715\u001b[0m     \u001b[1;32mtry\u001b[0m\u001b[1;33m:\u001b[0m\u001b[1;33m\u001b[0m\u001b[0m\n\u001b[0;32m    716\u001b[0m       result = self._run(None, fetches, feed_dict, options_ptr,\n\u001b[1;32m--> 717\u001b[1;33m                          run_metadata_ptr)\n\u001b[0m\u001b[0;32m    718\u001b[0m       \u001b[1;32mif\u001b[0m \u001b[0mrun_metadata\u001b[0m\u001b[1;33m:\u001b[0m\u001b[1;33m\u001b[0m\u001b[0m\n\u001b[0;32m    719\u001b[0m         \u001b[0mproto_data\u001b[0m \u001b[1;33m=\u001b[0m \u001b[0mtf_session\u001b[0m\u001b[1;33m.\u001b[0m\u001b[0mTF_GetBuffer\u001b[0m\u001b[1;33m(\u001b[0m\u001b[0mrun_metadata_ptr\u001b[0m\u001b[1;33m)\u001b[0m\u001b[1;33m\u001b[0m\u001b[0m\n",
      "\u001b[1;32m/usr/local/lib/python2.7/dist-packages/tensorflow/python/client/session.pyc\u001b[0m in \u001b[0;36m_run\u001b[1;34m(self, handle, fetches, feed_dict, options, run_metadata)\u001b[0m\n\u001b[0;32m    913\u001b[0m     \u001b[1;32mif\u001b[0m \u001b[0mfinal_fetches\u001b[0m \u001b[1;32mor\u001b[0m \u001b[0mfinal_targets\u001b[0m\u001b[1;33m:\u001b[0m\u001b[1;33m\u001b[0m\u001b[0m\n\u001b[0;32m    914\u001b[0m       results = self._do_run(handle, final_targets, final_fetches,\n\u001b[1;32m--> 915\u001b[1;33m                              feed_dict_string, options, run_metadata)\n\u001b[0m\u001b[0;32m    916\u001b[0m     \u001b[1;32melse\u001b[0m\u001b[1;33m:\u001b[0m\u001b[1;33m\u001b[0m\u001b[0m\n\u001b[0;32m    917\u001b[0m       \u001b[0mresults\u001b[0m \u001b[1;33m=\u001b[0m \u001b[1;33m[\u001b[0m\u001b[1;33m]\u001b[0m\u001b[1;33m\u001b[0m\u001b[0m\n",
      "\u001b[1;32m/usr/local/lib/python2.7/dist-packages/tensorflow/python/client/session.pyc\u001b[0m in \u001b[0;36m_do_run\u001b[1;34m(self, handle, target_list, fetch_list, feed_dict, options, run_metadata)\u001b[0m\n\u001b[0;32m    963\u001b[0m     \u001b[1;32mif\u001b[0m \u001b[0mhandle\u001b[0m \u001b[1;32mis\u001b[0m \u001b[0mNone\u001b[0m\u001b[1;33m:\u001b[0m\u001b[1;33m\u001b[0m\u001b[0m\n\u001b[0;32m    964\u001b[0m       return self._do_call(_run_fn, self._session, feed_dict, fetch_list,\n\u001b[1;32m--> 965\u001b[1;33m                            target_list, options, run_metadata)\n\u001b[0m\u001b[0;32m    966\u001b[0m     \u001b[1;32melse\u001b[0m\u001b[1;33m:\u001b[0m\u001b[1;33m\u001b[0m\u001b[0m\n\u001b[0;32m    967\u001b[0m       return self._do_call(_prun_fn, self._session, handle, feed_dict,\n",
      "\u001b[1;32m/usr/local/lib/python2.7/dist-packages/tensorflow/python/client/session.pyc\u001b[0m in \u001b[0;36m_do_call\u001b[1;34m(self, fn, *args)\u001b[0m\n\u001b[0;32m    983\u001b[0m         \u001b[1;32mexcept\u001b[0m \u001b[0mKeyError\u001b[0m\u001b[1;33m:\u001b[0m\u001b[1;33m\u001b[0m\u001b[0m\n\u001b[0;32m    984\u001b[0m           \u001b[1;32mpass\u001b[0m\u001b[1;33m\u001b[0m\u001b[0m\n\u001b[1;32m--> 985\u001b[1;33m       \u001b[1;32mraise\u001b[0m \u001b[0mtype\u001b[0m\u001b[1;33m(\u001b[0m\u001b[0me\u001b[0m\u001b[1;33m)\u001b[0m\u001b[1;33m(\u001b[0m\u001b[0mnode_def\u001b[0m\u001b[1;33m,\u001b[0m \u001b[0mop\u001b[0m\u001b[1;33m,\u001b[0m \u001b[0mmessage\u001b[0m\u001b[1;33m)\u001b[0m\u001b[1;33m\u001b[0m\u001b[0m\n\u001b[0m\u001b[0;32m    986\u001b[0m \u001b[1;33m\u001b[0m\u001b[0m\n\u001b[0;32m    987\u001b[0m   \u001b[1;32mdef\u001b[0m \u001b[0m_extend_graph\u001b[0m\u001b[1;33m(\u001b[0m\u001b[0mself\u001b[0m\u001b[1;33m)\u001b[0m\u001b[1;33m:\u001b[0m\u001b[1;33m\u001b[0m\u001b[0m\n",
      "\u001b[1;31mResourceExhaustedError\u001b[0m: OOM when allocating tensor with shape[4,250,250]\n\t [[Node: n252 = Fill[T=DT_FLOAT](n250, n251)]]\n\t [[Node: gradients/matvecexp_op_31205_grad/SymbolicGradient = SymbolicGradient[Tin=[DT_FLOAT, DT_FLOAT, DT_FLOAT, DT_FLOAT], Tout=[DT_FLOAT, DT_FLOAT, DT_FLOAT], f=matvecexp_op[], _device=\"/job:localhost/replica:0/task:0/gpu:0\"](strided_slice_31207, Const_3, matvecexp_op_31204, gradients/AddN_18799)]]\n\t [[Node: pack_3/_3 = _Recv[client_terminated=false, recv_device=\"/job:localhost/replica:0/task:0/cpu:0\", send_device=\"/job:localhost/replica:0/task:0/gpu:0\", send_device_incarnation=1, tensor_name=\"edge_1556801_pack_3\", tensor_type=DT_FLOAT, _device=\"/job:localhost/replica:0/task:0/cpu:0\"]()]]"
     ]
    },
    {
     "data": {
      "text/plain": [
       "<matplotlib.figure.Figure at 0x7f64ffd39410>"
      ]
     },
     "metadata": {},
     "output_type": "display_data"
    }
   ],
   "source": [
    "uks,U_final = Grape(H0,Hops,Hnames,U,total_time,steps,psi0,convergence=convergence, draw = [states_draw_list,states_draw_names],  \n",
    "                    state_transfer=state_transfer, \n",
    "                    show_plots =False,  \n",
    "       Taylor_terms = [20,0] , method = 'L-BFGS-B',switch = False,initial_guess = u0,maxA = ops_max_amp\n",
    "                    ,reg_coeffs = reg_coeffs,dressed_info=dressed_info,file_name = \"cat\"\n",
    "                    , data_path = \"/home/nelson/Simulations/GRAPE-Data/cat\")"
   ]
  },
  {
   "cell_type": "code",
   "execution_count": null,
   "metadata": {
    "collapsed": true
   },
   "outputs": [],
   "source": []
  }
 ],
 "metadata": {
  "kernelspec": {
   "display_name": "Python 2",
   "language": "python",
   "name": "python2"
  },
  "language_info": {
   "codemirror_mode": {
    "name": "ipython",
    "version": 2
   },
   "file_extension": ".py",
   "mimetype": "text/x-python",
   "name": "python",
   "nbconvert_exporter": "python",
   "pygments_lexer": "ipython2",
   "version": "2.7.6"
  }
 },
 "nbformat": 4,
 "nbformat_minor": 0
}
