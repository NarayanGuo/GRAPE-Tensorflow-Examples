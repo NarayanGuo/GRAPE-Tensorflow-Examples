{
 "cells": [
  {
   "cell_type": "code",
   "execution_count": 1,
   "metadata": {
    "collapsed": false,
    "scrolled": false
   },
   "outputs": [
    {
     "name": "stdout",
     "output_type": "stream",
     "text": [
      "Populating the interactive namespace from numpy and matplotlib\n"
     ]
    },
    {
     "name": "stderr",
     "output_type": "stream",
     "text": [
      "/usr/local/lib/python2.7/dist-packages/matplotlib/font_manager.py:273: UserWarning: Matplotlib is building the font cache using fc-list. This may take a moment.\n",
      "  warnings.warn('Matplotlib is building the font cache using fc-list. This may take a moment.')\n"
     ]
    }
   ],
   "source": [
    "import scipy.linalg as la\n",
    "import os,sys,inspect\n",
    "currentdir = os.path.dirname(os.path.abspath(inspect.getfile(inspect.currentframe())))\n",
    "parentdir = os.path.dirname(currentdir)\n",
    "sys.path.insert(0,parentdir) \n",
    "from main_grape.Grape import Grape\n",
    "%pylab inline\n",
    "\n",
    "from IPython import display\n"
   ]
  },
  {
   "cell_type": "code",
   "execution_count": null,
   "metadata": {
    "collapsed": false
   },
   "outputs": [],
   "source": [
    "#Defining time scales\n",
    "total_time = 8.0\n",
    "steps = 800\n",
    "\n",
    "state_transfer = False\n",
    "\n",
    "#Defining H0\n",
    "qubit_state_num = 4\n",
    "alpha = 0.224574\n",
    "freq_ge = 3.9225#GHz\n",
    "ens = np.array([ 2*np.pi*ii*(freq_ge - 0.5*(ii-1)*alpha) for ii in np.arange(qubit_state_num)])\n",
    "Q_x   = np.diag(np.sqrt(np.arange(1,qubit_state_num)),1)+np.diag(np.sqrt(np.arange(1,qubit_state_num)),-1)\n",
    "Q_z   = np.diag(np.arange(0,qubit_state_num))\n",
    "I_q = np.identity(qubit_state_num)\n",
    "H_q = np.diag(ens)\n",
    "H0 = H_q \n",
    "       \n",
    "\n",
    "#Defining Concerned states (starting states)\n",
    "if state_transfer:\n",
    "    psi0=[0]\n",
    "else:\n",
    "    psi0 = [0,1]\n",
    "\n",
    "#Defining states to include in the drawing of occupation\n",
    "states_draw_list = [0,1,2]\n",
    "states_draw_names = ['g','e','f']\n",
    "\n",
    "#Defining U (Target)\n",
    "if state_transfer:\n",
    "    U = np.zeros(qubit_state_num,dtype=complex)\n",
    "    U[1]=(0+1j)/np.sqrt(2)\n",
    "    U[0]=1/np.sqrt(2)\n",
    "    \n",
    "else:\n",
    "    Ut_c = la.expm((0-1j)*total_time*H0)\n",
    "    Ct_c = Ut_c.copy()\n",
    "    Ct_c[1,0] = 1\n",
    "    Ct_c[0,1] = 1\n",
    "    Ct_c[0,0] = 0\n",
    "    Ct_c[1,1] = 0\n",
    "    U = Ct_c\n",
    "\n",
    "#Defining U0 (Initial)\n",
    "q_identity = np.identity(qubit_state_num)\n",
    "U0= q_identity\n",
    "\n",
    "#Defining control Hs\n",
    "XI = Q_x\n",
    "ZI = Q_z\n",
    "Hops = [XI,ZI]\n",
    "ops_max_amp = [2.0,2.0]\n",
    "Hnames =['x','z']\n",
    "\n",
    "#Defining convergence parameters\n",
    "max_iterations = 100\n",
    "decay = max_iterations/2\n",
    "convergence = {'rate':0.01, 'update_step':10, 'max_iterations':max_iterations,\\\n",
    "               'conv_target':1e-6,'learning_rate_decay':decay}\n",
    "\n",
    "#Definining reg coeffs\n",
    "states_forbidden_list = [3]\n",
    "# reg_coeffs = {'envelope' : 0.01, 'dc':0.01, 'dc_id':[1],'dc_seg_num':1, 'dwdt':0.001,'d2wdt2':0.001*0.0001, 'forbidden':100,\n",
    "#              'states_forbidden_list':states_forbidden_list}\n",
    "\n",
    "reg_coeffs = {'bandpass':0.1,'band':[3,5]}\n"
   ]
  },
  {
   "cell_type": "code",
   "execution_count": null,
   "metadata": {
    "collapsed": false,
    "scrolled": false
   },
   "outputs": [],
   "source": [
    "uks,U_final = Grape(H0,Hops,Hnames,U,total_time,steps,psi0,convergence=convergence, draw = [states_draw_list,states_draw_names],show_plots = True, \n",
    " unitary_error = 1e-8, method = 'L-BFGS-B',maxA=ops_max_amp,\\\n",
    "                    use_gpu=True,reg_coeffs=reg_coeffs, file_name='transmon_pi', data_path = '/home/nelson/Simulations/GRAPE-Data/transmon_pi')\n",
    "      "
   ]
  },
  {
   "cell_type": "code",
   "execution_count": null,
   "metadata": {
    "collapsed": false
   },
   "outputs": [],
   "source": [
    "import h5py\n",
    "with h5py.File('/home/nelson/Simulations/GRAPE-Data/transmon_pi/00111_transmon_pi.h5','r') as hf:  \n",
    "    print np.array(hf.get('error'))\n",
    "    uks = np.array(hf.get('uks'))[-1]/(2*np.pi)\n",
    "    print uks.shape"
   ]
  },
  {
   "cell_type": "code",
   "execution_count": null,
   "metadata": {
    "collapsed": true
   },
   "outputs": [],
   "source": []
  }
 ],
 "metadata": {
  "kernelspec": {
   "display_name": "Python 2",
   "language": "python",
   "name": "python2"
  },
  "language_info": {
   "codemirror_mode": {
    "name": "ipython",
    "version": 2
   },
   "file_extension": ".py",
   "mimetype": "text/x-python",
   "name": "python",
   "nbconvert_exporter": "python",
   "pygments_lexer": "ipython2",
   "version": "2.7.6"
  }
 },
 "nbformat": 4,
 "nbformat_minor": 0
}
