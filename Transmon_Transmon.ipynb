{
 "cells": [
  {
   "cell_type": "code",
   "execution_count": 1,
   "metadata": {
    "collapsed": false,
    "scrolled": false
   },
   "outputs": [
    {
     "name": "stdout",
     "output_type": "stream",
     "text": [
      "Populating the interactive namespace from numpy and matplotlib\n"
     ]
    },
    {
     "name": "stderr",
     "output_type": "stream",
     "text": [
      "/usr/local/lib/python2.7/dist-packages/matplotlib/font_manager.py:273: UserWarning: Matplotlib is building the font cache using fc-list. This may take a moment.\n",
      "  warnings.warn('Matplotlib is building the font cache using fc-list. This may take a moment.')\n"
     ]
    }
   ],
   "source": [
    "import scipy.linalg as la\n",
    "import os,sys,inspect\n",
    "currentdir = os.path.dirname(os.path.abspath(inspect.getfile(inspect.currentframe())))\n",
    "parentdir = os.path.dirname(currentdir)\n",
    "sys.path.insert(0,parentdir) \n",
    "from main_grape.Grape import Grape\n",
    "from helper_functions.grape_functions import transmon_gate, get_state_index\n",
    "%pylab inline\n",
    "import random as rd\n",
    "import time\n",
    "from IPython import display\n"
   ]
  },
  {
   "cell_type": "code",
   "execution_count": 2,
   "metadata": {
    "collapsed": false
   },
   "outputs": [
    {
     "name": "stdout",
     "output_type": "stream",
     "text": [
      "[[  0.           0.           0.           0.        ]\n",
      " [  0.          24.5044227    0.           0.        ]\n",
      " [  0.           0.          47.59780534   0.        ]\n",
      " [  0.           0.           0.          69.28014792]]\n",
      "[[  0.           0.           0.           0.        ]\n",
      " [  0.          21.99114858   0.           0.        ]\n",
      " [  0.           0.          42.57125709   0.        ]\n",
      " [  0.           0.           0.          61.74032555]]\n",
      "[0, 15, 2, 5, 8, 13, 10, 7, 1, 4, 14, 11, 3, 6, 9, 12]\n",
      "[ -1.13212777e-02  -3.60822483e-16  -2.05753029e-01  -5.52672057e-17\n",
      "  -1.31838984e-16  -8.31309123e-01  -2.08275237e-16   4.66006495e-03\n",
      "   5.15448198e-01   1.04083409e-17   2.40477583e-02   5.20417043e-18\n",
      "  -6.30192513e-19  -1.32484475e-02  -5.08219768e-19  -5.34012330e-04]\n",
      "[ -1.13212777e-02  -3.35873681e-16  -2.05753029e-01  -5.52709086e-17\n",
      "  -1.49882436e-17  -8.31309123e-01  -2.08543218e-16   4.66006495e-03\n",
      "   5.15448198e-01   1.20209195e-17   2.40477583e-02   5.22427849e-18\n",
      "  -5.65263582e-19  -1.32484475e-02  -4.31386965e-19  -5.34012330e-04]\n"
     ]
    }
   ],
   "source": [
    "#Defining time scales\n",
    "total_time = 12.0\n",
    "steps = 400\n",
    "qubit_state_num = 4\n",
    "\n",
    "#Defining H0\n",
    "alpha = 0.224574\n",
    "freq_ge = 3.9#GHz\n",
    "ens_1 = np.array([ 2*np.pi*ii*(freq_ge - 0.5*(ii-1)*alpha) for ii in np.arange(qubit_state_num)])\n",
    "H0_1 = np.diag(ens_1)\n",
    "\n",
    "alpha = 0.224574\n",
    "freq_ge = 3.5#GHz\n",
    "ens_2 = np.array([ 2*np.pi*ii*(freq_ge - 0.5*(ii-1)*alpha) for ii in np.arange(qubit_state_num)])\n",
    "H0_2 = np.diag(ens_2)\n",
    "\n",
    "g = 2*np.pi*0.1\n",
    "\n",
    "Q_x   = np.diag(np.sqrt(np.arange(1,qubit_state_num)),1)+np.diag(np.sqrt(np.arange(1,qubit_state_num)),-1)\n",
    "Q_y   = (0+1j) *(np.diag(np.sqrt(np.arange(1,qubit_state_num)),1)-np.diag(np.sqrt(np.arange(1,qubit_state_num)),-1))\n",
    "Q_z   = np.diag(np.arange(0,qubit_state_num))\n",
    "Q_I   = np.identity(qubit_state_num)\n",
    "\n",
    "\n",
    "H0 = np.kron(H0_1,Q_I) + np.kron(Q_I,H0_2) + g * np.kron(Q_x,Q_x)\n",
    "#Defining Forbidden sates\n",
    "w_c, v_c = la.eig(H0)\n",
    "dressed=[]\n",
    "D= True\n",
    "if D:\n",
    "    for ii in range (len(v_c)):\n",
    "        index=np.argmax(np.abs(v_c[:,ii]))\n",
    "        if index not in dressed:\n",
    "            dressed.append(index)\n",
    "        else:\n",
    "            temp= (np.abs(v_c[:,ii])).tolist()\n",
    "            while index in dressed:\n",
    "\n",
    "                temp.remove(max(temp))\n",
    "                index2= np.argmax(np.array(temp))\n",
    "\n",
    "                if index2<index:\n",
    "                            #dressed.append(index2)\n",
    "                    index=index2\n",
    "                else:\n",
    "                            #dressed.append(index2-1)\n",
    "                    index=index2+1\n",
    "            dressed.append(index)\n",
    "\n",
    "#states_forbidden_list = []\n",
    "\n",
    "#Defining Concerned states (starting states)\n",
    "psi0 = [0,1,4,5]\n",
    "\n",
    "#Defining states to include in the drawing of occupation\n",
    "states_draw_list = [0,1,4,5]\n",
    "states_draw_names = ['00','01','10','11']\n",
    "forbidden = [3,7,11,12,13,14,15]\n",
    "#Defining U (Target)\n",
    "p2 = get_state_index(5,dressed)\n",
    "p3 = get_state_index(4,dressed)\n",
    "\n",
    "if D:\n",
    "    U = np.identity(16)\n",
    "    U = U - np.outer(v_c[:,p2],v_c[:,p2])\n",
    "    U = U - np.outer(v_c[:,p3],v_c[:,p3])\n",
    "    U = U + np.outer(v_c[:,p3],v_c[:,p2])\n",
    "    U = U + np.outer(v_c[:,p2],v_c[:,p3])\n",
    "else:   \n",
    "    U= np.identity(4)\n",
    "    U[2,2] = 0\n",
    "    U[3,3] = 0\n",
    "    U[2,3] = 1\n",
    "    U[3,2] = 1\n",
    "    U = transmon_gate(U,qubit_state_num)\n",
    "\n",
    "\n",
    "\n",
    "Q_x1 = np.kron(Q_x,Q_I)\n",
    "Q_y1 = np.kron(Q_y,Q_I)\n",
    "Q_z1 = np.kron(Q_z,Q_I)\n",
    "Q_x2 = np.kron(Q_I,Q_x)\n",
    "Q_y2 = np.kron(Q_I,Q_y)\n",
    "Q_z2 = np.kron(Q_I,Q_z)\n",
    "\n",
    "Hops = [Q_x1,Q_y1,Q_x2,Q_y2,Q_z2]\n",
    "ops_max_amp = [2.0,2.0,2.0,2.0,2.0]\n",
    "Hnames =['x1','y1', 'x2','y2','z2']\n",
    "\n",
    "#Defining convergence parameters\n",
    "max_iterations = 500\n",
    "decay = max_iterations/2\n",
    "convergence = {'rate':0.01, 'update_step':50, 'max_iterations':max_iterations,\\\n",
    "               'conv_target':1e-3,'learning_rate_decay':decay}\n",
    "penalty_coeffs = {'envelope' : 0, 'dc':0, 'dwdt':0.01,'d2wdt2':0.0001*0.0001, 'forbidden':100}\n",
    "#penalty_coeffs = {'envelope' : 0, 'dc':0, 'dwdt':0,'d2wdt2':0, 'forbidden':0}\n",
    "print H0_1\n",
    "print H0_2\n",
    "print dressed\n",
    "\n",
    "def second_largest(numbers):\n",
    "    count = 0\n",
    "    m1 = m2 = float('-inf')\n",
    "    for x in numbers:\n",
    "        count += 1\n",
    "        if x > m2:\n",
    "            if x >= m1:\n",
    "                m1, m2 = x, m1            \n",
    "            else:\n",
    "                m2 = x\n",
    "    return m2 if count >= 2 else None\n",
    "#for ii in range (len(dressed)):\n",
    "    #print np.max(np.abs(v_c[:,dressed[ii]])), second_largest(np.abs(v_c[:,dressed[ii]])), dressed[ii],np.argmax(np.abs(v_c[:,get_state_index(ii,dressed)]))\n",
    "multi_mode = {'dressed':dressed, 'vectors':v_c, 'qnum':qubit_state_num, 'mnum': 0,\\\n",
    "              'f':freq_ge, 'es':w_c, 'g1':g, 'D':D, 'Interpolation':False, 'Modulation':False}\n",
    "\n",
    "print np.dot(U,v_c[:,get_state_index(4,dressed)])\n",
    "print v_c[:,get_state_index(5,dressed)]"
   ]
  },
  {
   "cell_type": "code",
   "execution_count": 3,
   "metadata": {
    "collapsed": false,
    "scrolled": false
   },
   "outputs": [
    {
     "ename": "TypeError",
     "evalue": "'NoneType' object is not iterable",
     "output_type": "error",
     "traceback": [
      "\u001b[1;31m---------------------------------------------------------------------------\u001b[0m",
      "\u001b[1;31mTypeError\u001b[0m                                 Traceback (most recent call last)",
      "\u001b[1;32m<ipython-input-3-e9c1ab8bb866>\u001b[0m in \u001b[0;36m<module>\u001b[1;34m()\u001b[0m\n\u001b[0;32m      3\u001b[0m \u001b[1;31m#maxA = ops_max_amp,use_gpu = True\u001b[0m\u001b[1;33m\u001b[0m\u001b[1;33m\u001b[0m\u001b[0m\n\u001b[0;32m      4\u001b[0m uks,U_f =Grape(H0,Hops,Hnames,U,total_time,steps,psi0,convergence=convergence, method = 'L-BFGS-B',switch=False, draw = [states_draw_list,states_draw_names] ,\n\u001b[1;32m----> 5\u001b[1;33m               maxA = ops_max_amp, use_gpu=True, penalty_coeffs=penalty_coeffs, unitary_error = 1e-08, show_plots = False, multi_mode = multi_mode)\n\u001b[0m",
      "\u001b[1;31mTypeError\u001b[0m: 'NoneType' object is not iterable"
     ]
    }
   ],
   "source": [
    " #Extra options\n",
    "#reg_coeffs = reg_coeffs,draw = [states_draw_list,states_draw_names] ,forbidden = states_forbidden_list,multi_mode = multi_mode,\n",
    "#maxA = ops_max_amp,use_gpu = True\n",
    "uks,U_f =Grape(H0,Hops,Hnames,U,total_time,steps,psi0,convergence=convergence, method = 'L-BFGS-B',switch=False, draw = [states_draw_list,states_draw_names] ,\n",
    "               maxA = ops_max_amp, use_gpu=True, penalty_coeffs=penalty_coeffs, unitary_error = 1e-08, show_plots = False, multi_mode = multi_mode)"
   ]
  },
  {
   "cell_type": "code",
   "execution_count": null,
   "metadata": {
    "collapsed": false
   },
   "outputs": [],
   "source": [
    "np.save('uks_TT',uks)"
   ]
  }
 ],
 "metadata": {
  "kernelspec": {
   "display_name": "Python 2",
   "language": "python",
   "name": "python2"
  },
  "language_info": {
   "codemirror_mode": {
    "name": "ipython",
    "version": 2
   },
   "file_extension": ".py",
   "mimetype": "text/x-python",
   "name": "python",
   "nbconvert_exporter": "python",
   "pygments_lexer": "ipython2",
   "version": "2.7.6"
  }
 },
 "nbformat": 4,
 "nbformat_minor": 0
}
