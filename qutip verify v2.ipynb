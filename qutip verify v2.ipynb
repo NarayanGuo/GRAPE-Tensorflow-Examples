{
 "cells": [
  {
   "cell_type": "code",
   "execution_count": 1,
   "metadata": {
    "collapsed": false
   },
   "outputs": [
    {
     "name": "stderr",
     "output_type": "stream",
     "text": [
      "/usr/local/lib/python2.7/dist-packages/matplotlib/font_manager.py:273: UserWarning: Matplotlib is building the font cache using fc-list. This may take a moment.\n",
      "  warnings.warn('Matplotlib is building the font cache using fc-list. This may take a moment.')\n"
     ]
    }
   ],
   "source": [
    "import numpy as np\n",
    "import h5py\n",
    "import qutip as qt"
   ]
  },
  {
   "cell_type": "code",
   "execution_count": 2,
   "metadata": {
    "collapsed": false
   },
   "outputs": [
    {
     "name": "stdout",
     "output_type": "stream",
     "text": [
      "('List of arrays in this file: \\n', [u'H0', u'Hnames', u'Hops', u'U', u'convergence', u'dressed_info', u'error', u'initial_vectors_c', u'inter_vecs_imag', u'inter_vecs_mag_squared', u'inter_vecs_raw_imag', u'inter_vecs_raw_real', u'inter_vecs_real', u'iteration', u'maxA', u'method', u'reg_coeffs', u'reg_error', u'run_time', u'states_concerned_list', u'steps', u'taylor_scaling', u'taylor_terms', u'total_time', u'uks', u'unitary_scale'])\n"
     ]
    }
   ],
   "source": [
    "with h5py.File('/home/nelson/Simulations/GRAPE-Data/spin_chain_ghz/00004_nk_spin_chain_ghz_N3.h5','r') as hf:\n",
    "#     print('List of arrays in this file: \\n', hf.keys())\n",
    "    \n",
    "\n",
    "    gate_time = np.array(hf.get('total_time'))\n",
    "    gate_steps = np.array(hf.get('steps'))\n",
    "    H0 = np.array(hf.get('H0'))\n",
    "    Hops = np.array(hf.get('Hops'))\n",
    "    initial_vectors_c = np.array(hf.get('initial_vectors_c'))\n",
    "    uks = np.array(hf.get('uks'))[-1]\n",
    "    \n",
    "    inter_vecs_raw_real = np.array(hf.get('inter_vecs_raw_real'))[-1]\n",
    "    inter_vecs_raw_imag = np.array(hf.get('inter_vecs_raw_imag'))[-1]\n",
    "    \n",
    "    inter_vecs_raw = inter_vecs_raw_real + 1j*inter_vecs_raw_imag\n",
    "    \n",
    "    \n",
    "#     print inter_vecs_raw[0]\n",
    "#     print inter_vecs_raw[1][1]\n",
    "   "
   ]
  },
  {
   "cell_type": "code",
   "execution_count": 16,
   "metadata": {
    "collapsed": false
   },
   "outputs": [
    {
     "name": "stdout",
     "output_type": "stream",
     "text": [
      "1\n"
     ]
    }
   ],
   "source": [
    "print len(initial_vectors_c)"
   ]
  },
  {
   "cell_type": "code",
   "execution_count": 3,
   "metadata": {
    "collapsed": true
   },
   "outputs": [],
   "source": [
    "init_vector_id = 0"
   ]
  },
  {
   "cell_type": "code",
   "execution_count": 4,
   "metadata": {
    "collapsed": false
   },
   "outputs": [],
   "source": [
    "psi0 = qt.Qobj(initial_vectors_c[init_vector_id])\n",
    "H0_qobj = qt.Qobj(H0)\n",
    "Hops_qobj = []\n",
    "\n",
    "for Hop in Hops:\n",
    "    Hops_qobj.append(qt.Qobj(Hop))"
   ]
  },
  {
   "cell_type": "code",
   "execution_count": 5,
   "metadata": {
    "collapsed": true
   },
   "outputs": [],
   "source": [
    "tlist = np.linspace(0,gate_time,gate_steps+1)"
   ]
  },
  {
   "cell_type": "code",
   "execution_count": 8,
   "metadata": {
    "collapsed": false
   },
   "outputs": [],
   "source": [
    "uks_t0 = np.zeros((uks.shape[0],1))\n",
    "\n",
    "uks = np.hstack([uks,uks_t0])"
   ]
  },
  {
   "cell_type": "code",
   "execution_count": 9,
   "metadata": {
    "collapsed": true
   },
   "outputs": [],
   "source": [
    "dt = gate_time/gate_steps"
   ]
  },
  {
   "cell_type": "code",
   "execution_count": 10,
   "metadata": {
    "collapsed": true
   },
   "outputs": [],
   "source": [
    "def make_get_uks_func(id):\n",
    "    def _function(t,args=None):\n",
    "        time_id = int(t/dt)\n",
    "        return uks[id][time_id]\n",
    "    return _function"
   ]
  },
  {
   "cell_type": "code",
   "execution_count": 11,
   "metadata": {
    "collapsed": false
   },
   "outputs": [],
   "source": [
    "Ht_list = []\n",
    "Ht_list.append(H0_qobj)\n",
    "\n",
    "for ii in range(len(Hops)):\n",
    "    Ht_list.append([Hops_qobj[ii],make_get_uks_func(ii)])"
   ]
  },
  {
   "cell_type": "code",
   "execution_count": 12,
   "metadata": {
    "collapsed": true
   },
   "outputs": [],
   "source": [
    "output = qt.sesolve(Ht_list, psi0, tlist, [])"
   ]
  },
  {
   "cell_type": "code",
   "execution_count": 13,
   "metadata": {
    "collapsed": true
   },
   "outputs": [],
   "source": [
    "state_tlist = []\n",
    "for state in output.states:\n",
    "    state_tlist.append(state.full())\n",
    "    \n",
    "state_tlist = np.array(state_tlist)[:,:,0]\n",
    "state_tlist = np.transpose(state_tlist)"
   ]
  },
  {
   "cell_type": "code",
   "execution_count": 14,
   "metadata": {
    "collapsed": false
   },
   "outputs": [
    {
     "name": "stdout",
     "output_type": "stream",
     "text": [
      "0.000187893986802\n"
     ]
    }
   ],
   "source": [
    "diff = np.abs(state_tlist) - np.abs(inter_vecs_raw[init_vector_id])\n",
    "print np.max(diff)"
   ]
  },
  {
   "cell_type": "code",
   "execution_count": 15,
   "metadata": {
    "collapsed": false
   },
   "outputs": [
    {
     "data": {
      "text/plain": [
       "True"
      ]
     },
     "execution_count": 15,
     "metadata": {},
     "output_type": "execute_result"
    }
   ],
   "source": [
    "np.allclose(state_tlist,inter_vecs_raw[init_vector_id],atol=1e-03)"
   ]
  },
  {
   "cell_type": "code",
   "execution_count": null,
   "metadata": {
    "collapsed": true
   },
   "outputs": [],
   "source": []
  }
 ],
 "metadata": {
  "kernelspec": {
   "display_name": "Python 2",
   "language": "python",
   "name": "python2"
  },
  "language_info": {
   "codemirror_mode": {
    "name": "ipython",
    "version": 2
   },
   "file_extension": ".py",
   "mimetype": "text/x-python",
   "name": "python",
   "nbconvert_exporter": "python",
   "pygments_lexer": "ipython2",
   "version": "2.7.6"
  }
 },
 "nbformat": 4,
 "nbformat_minor": 0
}
