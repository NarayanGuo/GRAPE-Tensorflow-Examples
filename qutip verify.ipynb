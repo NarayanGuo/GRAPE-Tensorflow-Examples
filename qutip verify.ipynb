{
 "cells": [
  {
   "cell_type": "code",
   "execution_count": 1,
   "metadata": {
    "collapsed": false
   },
   "outputs": [
    {
     "name": "stderr",
     "output_type": "stream",
     "text": [
      "/usr/local/lib/python2.7/dist-packages/matplotlib/font_manager.py:273: UserWarning: Matplotlib is building the font cache using fc-list. This may take a moment.\n",
      "  warnings.warn('Matplotlib is building the font cache using fc-list. This may take a moment.')\n",
      "WARNING: "
     ]
    },
    {
     "name": "stdout",
     "output_type": "stream",
     "text": [
      "Populating the interactive namespace from numpy and matplotlib\n"
     ]
    },
    {
     "name": "stderr",
     "output_type": "stream",
     "text": [
      "pylab import has clobbered these variables: ['display']\n",
      "`%matplotlib` prevents importing * from pylab and numpy\n"
     ]
    }
   ],
   "source": [
    "from IPython import display\n",
    "import numpy as np\n",
    "import matplotlib.pyplot as plt\n",
    "import matplotlib\n",
    "import svgutils.transform as sg\n",
    "import sys \n",
    "%pylab inline\n",
    "\n",
    "matplotlib.rcParams.update({'font.size': 25})\n",
    "matplotlib.rcParams['xtick.major.size'] = 10\n",
    "matplotlib.rcParams['xtick.major.width'] = 3\n",
    "matplotlib.rcParams['xtick.minor.size'] = 10\n",
    "matplotlib.rcParams['xtick.minor.width'] = 2\n",
    "matplotlib.rcParams['ytick.major.size'] = 10\n",
    "matplotlib.rcParams['ytick.major.width'] = 3\n",
    "matplotlib.rcParams['ytick.minor.size'] = 10\n",
    "matplotlib.rcParams['ytick.minor.width'] = 2\n",
    "import h5py\n",
    "import qutip as qt"
   ]
  },
  {
   "cell_type": "code",
   "execution_count": null,
   "metadata": {
    "collapsed": true
   },
   "outputs": [],
   "source": []
  },
  {
   "cell_type": "code",
   "execution_count": 2,
   "metadata": {
    "collapsed": false
   },
   "outputs": [
    {
     "name": "stdout",
     "output_type": "stream",
     "text": [
      "('List of arrays in this file: \\n', [u'H0', u'Hnames', u'Hops', u'U', u'convergence', u'error', u'final_state', u'initial_vectors_c', u'inter_vecs_imag', u'inter_vecs_mag_squared', u'inter_vecs_raw_imag', u'inter_vecs_raw_real', u'inter_vecs_real', u'iteration', u'maxA', u'method', u'reg_coeffs', u'reg_error', u'run_time', u'states_concerned_list', u'steps', u'taylor_scaling', u'taylor_terms', u'total_time', u'uks', u'unitary_scale'])\n",
      "8.0\n",
      "1600\n",
      "(2, 1600)\n",
      "[[ 1.  0.  0.  0.]\n",
      " [ 0.  1.  0.  0.]]\n",
      "(2, 4, 1601)\n",
      "(2, 4, 1601)\n"
     ]
    }
   ],
   "source": [
    "with h5py.File('/home/nelson/Simulations/GRAPE-Data/transmon_pi/00038_transmon_pi.h5','r') as hf:\n",
    "    print('List of arrays in this file: \\n', hf.keys())\n",
    "    \n",
    "\n",
    "    gate_time = np.array(hf.get('total_time'))\n",
    "    gate_steps = np.array(hf.get('steps'))\n",
    "    H0 = np.array(hf.get('H0'))\n",
    "    Hops = np.array(hf.get('Hops'))\n",
    "    initial_vectors_c = np.array(hf.get('initial_vectors_c'))\n",
    "    dressed_info = np.array(hf.get('dressed_info'))\n",
    "    uks = np.array(hf.get('uks'))[-1]\n",
    "    \n",
    "    inter_vecs_raw_real = np.array(hf.get('inter_vecs_raw_real'))[-1]\n",
    "    inter_vecs_raw_imag = np.array(hf.get('inter_vecs_raw_imag'))[-1]\n",
    "    \n",
    "    inter_vecs_raw = inter_vecs_raw_real + 1j*inter_vecs_raw_imag\n",
    "    \n",
    "    print gate_time\n",
    "    print gate_steps\n",
    "    print np.shape(uks)\n",
    "    \n",
    "    print initial_vectors_c\n",
    "    \n",
    "    print inter_vecs_raw.shape\n",
    "    print inter_vecs_raw_real.shape\n",
    "    \n",
    "#     print inter_vecs_raw[0]\n",
    "#     print inter_vecs_raw[1][1]\n",
    "   "
   ]
  },
  {
   "cell_type": "code",
   "execution_count": 3,
   "metadata": {
    "collapsed": false
   },
   "outputs": [
    {
     "name": "stdout",
     "output_type": "stream",
     "text": [
      "[[  0.           0.           0.           0.        ]\n",
      " [  0.          24.64579437   0.           0.        ]\n",
      " [  0.           0.          47.88054868   0.        ]\n",
      " [  0.           0.           0.          69.70426293]]\n",
      "[[ 0.          1.          0.          0.        ]\n",
      " [ 1.          0.          1.41421356  0.        ]\n",
      " [ 0.          1.41421356  0.          1.73205081]\n",
      " [ 0.          0.          1.73205081  0.        ]]\n",
      "[[ 0.  0.  0.  0.]\n",
      " [ 0.  1.  0.  0.]\n",
      " [ 0.  0.  2.  0.]\n",
      " [ 0.  0.  0.  3.]]\n"
     ]
    }
   ],
   "source": [
    "print H0\n",
    "initial_vectors_c.shape\n",
    "for Hop in Hops:\n",
    "    print Hop"
   ]
  },
  {
   "cell_type": "code",
   "execution_count": 4,
   "metadata": {
    "collapsed": false
   },
   "outputs": [
    {
     "name": "stdout",
     "output_type": "stream",
     "text": [
      "[Quantum object: dims = [[4], [4]], shape = [4, 4], type = oper, isherm = True\n",
      "Qobj data =\n",
      "[[ 0.          1.          0.          0.        ]\n",
      " [ 1.          0.          1.41421356  0.        ]\n",
      " [ 0.          1.41421356  0.          1.73205081]\n",
      " [ 0.          0.          1.73205081  0.        ]], Quantum object: dims = [[4], [4]], shape = [4, 4], type = oper, isherm = True\n",
      "Qobj data =\n",
      "[[ 0.  0.  0.  0.]\n",
      " [ 0.  1.  0.  0.]\n",
      " [ 0.  0.  2.  0.]\n",
      " [ 0.  0.  0.  3.]]]\n"
     ]
    }
   ],
   "source": [
    "psi0 = qt.Qobj(initial_vectors_c[0])\n",
    "H0_qobj = qt.Qobj(H0)\n",
    "Hops_qobj = []\n",
    "\n",
    "for Hop in Hops:\n",
    "    Hops_qobj.append(qt.Qobj(Hop))\n",
    "    \n",
    "print Hops_qobj"
   ]
  },
  {
   "cell_type": "code",
   "execution_count": 5,
   "metadata": {
    "collapsed": false
   },
   "outputs": [
    {
     "name": "stdout",
     "output_type": "stream",
     "text": [
      "(1601,)\n"
     ]
    }
   ],
   "source": [
    "tlist = np.linspace(0,gate_time,gate_steps+1)\n",
    "\n",
    "print tlist.shape"
   ]
  },
  {
   "cell_type": "code",
   "execution_count": 6,
   "metadata": {
    "collapsed": false
   },
   "outputs": [
    {
     "name": "stdout",
     "output_type": "stream",
     "text": [
      "(2, 1600)\n",
      "[[ 0.]\n",
      " [ 0.]]\n",
      "(2, 1601)\n"
     ]
    }
   ],
   "source": [
    "print uks.shape\n",
    "\n",
    "uks_t0 = np.zeros((uks.shape[0],1))\n",
    "\n",
    "print uks_t0\n",
    "\n",
    "uks = numpy.hstack([uks,uks_t0])\n",
    "\n",
    "print uks.shape"
   ]
  },
  {
   "cell_type": "code",
   "execution_count": 7,
   "metadata": {
    "collapsed": true
   },
   "outputs": [],
   "source": [
    "dt = gate_time/gate_steps\n",
    "\n",
    "def get_uks(t, args):\n",
    "    time_id = int(t/dt)\n",
    "    return uks[0][time_id]\n",
    "\n",
    "def get_uks_2(t, args):\n",
    "    time_id = int(t/dt)\n",
    "    return uks[1][time_id]"
   ]
  },
  {
   "cell_type": "code",
   "execution_count": 15,
   "metadata": {
    "collapsed": true
   },
   "outputs": [],
   "source": [
    "def make_get_uks_func(id):\n",
    "    def _function(t,args=None):\n",
    "        time_id = int(t/dt)\n",
    "        return uks[id][time_id]\n",
    "    return _function"
   ]
  },
  {
   "cell_type": "code",
   "execution_count": 16,
   "metadata": {
    "collapsed": true
   },
   "outputs": [],
   "source": [
    "f0 = make_get_uks_func(0)\n",
    "f1 = make_get_uks_func(1)"
   ]
  },
  {
   "cell_type": "code",
   "execution_count": 31,
   "metadata": {
    "collapsed": false
   },
   "outputs": [
    {
     "name": "stdout",
     "output_type": "stream",
     "text": [
      "[Quantum object: dims = [[4], [4]], shape = [4, 4], type = oper, isherm = True\n",
      "Qobj data =\n",
      "[[  0.           0.           0.           0.        ]\n",
      " [  0.          24.64579437   0.           0.        ]\n",
      " [  0.           0.          47.88054868   0.        ]\n",
      " [  0.           0.           0.          69.70426293]], [Quantum object: dims = [[4], [4]], shape = [4, 4], type = oper, isherm = True\n",
      "Qobj data =\n",
      "[[ 0.          1.          0.          0.        ]\n",
      " [ 1.          0.          1.41421356  0.        ]\n",
      " [ 0.          1.41421356  0.          1.73205081]\n",
      " [ 0.          0.          1.73205081  0.        ]], <function _function at 0x7f674be20aa0>], [Quantum object: dims = [[4], [4]], shape = [4, 4], type = oper, isherm = True\n",
      "Qobj data =\n",
      "[[ 0.  0.  0.  0.]\n",
      " [ 0.  1.  0.  0.]\n",
      " [ 0.  0.  2.  0.]\n",
      " [ 0.  0.  0.  3.]], <function _function at 0x7f674be20410>]]\n"
     ]
    }
   ],
   "source": [
    "Ht_list = []\n",
    "Ht_list.append(H0_qobj)\n",
    "\n",
    "for ii in range(len(Hops)):\n",
    "    Ht_list.append([Hops_qobj[ii],make_get_uks_func(ii)])\n",
    "    \n",
    "print Ht_list"
   ]
  },
  {
   "cell_type": "code",
   "execution_count": 32,
   "metadata": {
    "collapsed": true
   },
   "outputs": [],
   "source": [
    "output = qt.sesolve(Ht_list, psi0, tlist, [])"
   ]
  },
  {
   "cell_type": "code",
   "execution_count": 18,
   "metadata": {
    "collapsed": false
   },
   "outputs": [],
   "source": [
    "output = qt.sesolve([[Hops_qobj[0], f0],[Hops_qobj[1],f1], H0_qobj], psi0, tlist, [])"
   ]
  },
  {
   "cell_type": "code",
   "execution_count": 33,
   "metadata": {
    "collapsed": true
   },
   "outputs": [],
   "source": [
    "state_tlist = []\n",
    "for state in output.states:\n",
    "    state_tlist.append(state.full())\n",
    "    \n",
    "state_tlist = np.array(state_tlist)[:,:,0]\n",
    "state_tlist = np.transpose(state_tlist)"
   ]
  },
  {
   "cell_type": "code",
   "execution_count": 34,
   "metadata": {
    "collapsed": false
   },
   "outputs": [
    {
     "name": "stdout",
     "output_type": "stream",
     "text": [
      "(4, 1601)\n"
     ]
    }
   ],
   "source": [
    "print state_tlist.shape"
   ]
  },
  {
   "cell_type": "code",
   "execution_count": 35,
   "metadata": {
    "collapsed": false
   },
   "outputs": [
    {
     "name": "stdout",
     "output_type": "stream",
     "text": [
      "[[  1.00000000e+00 +0.00000000e+00j   1.00000000e+00 +1.76328049e-10j\n",
      "    1.00000000e+00 +4.14964152e-09j ...,   4.60251980e-03 -4.28824627e-04j\n",
      "    4.55649057e-03 -2.33421742e-04j   4.54831077e-03 -1.58058130e-04j]\n",
      " [  0.00000000e+00 +0.00000000e+00j   5.70399970e-06 +9.24577907e-05j\n",
      "    3.19692190e-05 +3.33264383e-04j ...,   9.57348228e-01 +2.88773715e-01j\n",
      "    9.85584259e-01 +1.68904424e-01j   9.98871505e-01 +4.64770868e-02j]\n",
      " [  0.00000000e+00 +0.00000000e+00j  -6.02382144e-09 +7.31718797e-10j\n",
      "   -7.78772105e-08 +1.48090722e-08j ...,  -1.48508127e-03 +2.19169445e-03j\n",
      "   -9.53091716e-04 +2.76443223e-03j  -2.68483360e-04 +3.01892892e-03j]\n",
      " [  0.00000000e+00 +0.00000000e+00j  -5.74037888e-14 -3.19462881e-13j\n",
      "   -4.18961177e-12 -1.47449900e-11j ...,   3.84586374e-03 -3.45660816e-03j\n",
      "    2.43318151e-03 -4.56250366e-03j   7.28349551e-04 -5.11916913e-03j]]\n"
     ]
    }
   ],
   "source": [
    "print inter_vecs_raw[0]"
   ]
  },
  {
   "cell_type": "code",
   "execution_count": 36,
   "metadata": {
    "collapsed": false
   },
   "outputs": [
    {
     "data": {
      "text/plain": [
       "(4, 1601)"
      ]
     },
     "execution_count": 36,
     "metadata": {},
     "output_type": "execute_result"
    }
   ],
   "source": [
    "state_tlist.shape"
   ]
  },
  {
   "cell_type": "code",
   "execution_count": 37,
   "metadata": {
    "collapsed": false
   },
   "outputs": [
    {
     "data": {
      "text/plain": [
       "(4, 1601)"
      ]
     },
     "execution_count": 37,
     "metadata": {},
     "output_type": "execute_result"
    }
   ],
   "source": [
    "inter_vecs_raw[0].shape"
   ]
  },
  {
   "cell_type": "code",
   "execution_count": 38,
   "metadata": {
    "collapsed": true
   },
   "outputs": [],
   "source": [
    "diff = np.abs(state_tlist) - np.abs(inter_vecs_raw[0])"
   ]
  },
  {
   "cell_type": "code",
   "execution_count": 39,
   "metadata": {
    "collapsed": false
   },
   "outputs": [
    {
     "name": "stdout",
     "output_type": "stream",
     "text": [
      "(4, 1601)\n"
     ]
    }
   ],
   "source": [
    "print diff.shape"
   ]
  },
  {
   "cell_type": "code",
   "execution_count": 40,
   "metadata": {
    "collapsed": false
   },
   "outputs": [
    {
     "name": "stdout",
     "output_type": "stream",
     "text": [
      "8.23549372387e-05\n"
     ]
    }
   ],
   "source": [
    "\n",
    "print np.max(diff)"
   ]
  },
  {
   "cell_type": "code",
   "execution_count": 41,
   "metadata": {
    "collapsed": false
   },
   "outputs": [
    {
     "data": {
      "text/plain": [
       "[<matplotlib.lines.Line2D at 0x7f674f8de990>]"
      ]
     },
     "execution_count": 41,
     "metadata": {},
     "output_type": "execute_result"
    },
    {
     "data": {
      "image/png": "[encoded data removed]",
      "text/plain": [
       "<matplotlib.figure.Figure at 0x7f674f6bfad0>"
      ]
     },
     "metadata": {},
     "output_type": "display_data"
    }
   ],
   "source": [
    "plt.plot(np.abs(diff)[0])"
   ]
  },
  {
   "cell_type": "code",
   "execution_count": 42,
   "metadata": {
    "collapsed": false
   },
   "outputs": [
    {
     "data": {
      "text/plain": [
       "[<matplotlib.lines.Line2D at 0x7f674f861750>]"
      ]
     },
     "execution_count": 42,
     "metadata": {},
     "output_type": "execute_result"
    },
    {
     "data": {
      "image/png": "[encoded data removed]",
      "text/plain": [
       "<matplotlib.figure.Figure at 0x7f674f7a5250>"
      ]
     },
     "metadata": {},
     "output_type": "display_data"
    }
   ],
   "source": [
    "plt.plot(np.abs(state_tlist[3]))"
   ]
  },
  {
   "cell_type": "code",
   "execution_count": 43,
   "metadata": {
    "collapsed": false
   },
   "outputs": [
    {
     "data": {
      "text/plain": [
       "True"
      ]
     },
     "execution_count": 43,
     "metadata": {},
     "output_type": "execute_result"
    }
   ],
   "source": [
    "np.allclose(state_tlist,inter_vecs_raw[0],atol=1e-03)"
   ]
  },
  {
   "cell_type": "code",
   "execution_count": null,
   "metadata": {
    "collapsed": true
   },
   "outputs": [],
   "source": []
  }
 ],
 "metadata": {
  "kernelspec": {
   "display_name": "Python 2",
   "language": "python",
   "name": "python2"
  },
  "language_info": {
   "codemirror_mode": {
    "name": "ipython",
    "version": 2
   },
   "file_extension": ".py",
   "mimetype": "text/x-python",
   "name": "python",
   "nbconvert_exporter": "python",
   "pygments_lexer": "ipython2",
   "version": "2.7.6"
  }
 },
 "nbformat": 4,
 "nbformat_minor": 0
}
