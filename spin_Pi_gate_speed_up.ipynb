{
 "cells": [
  {
   "cell_type": "code",
   "execution_count": null,
   "metadata": {
    "collapsed": false,
    "scrolled": false
   },
   "outputs": [],
   "source": [
    "import scipy.linalg as la\n",
    "import os,sys,inspect\n",
    "currentdir = os.path.dirname(os.path.abspath(inspect.getfile(inspect.currentframe())))\n",
    "parentdir = os.path.dirname(currentdir)\n",
    "sys.path.insert(0,parentdir) \n",
    "import numpy as np\n",
    "from helper_functions.grape_functions import *\n",
    "from main_grape.Grape import Grape\n",
    "%pylab inline\n",
    "\n"
   ]
  },
  {
   "cell_type": "code",
   "execution_count": null,
   "metadata": {
    "collapsed": false
   },
   "outputs": [],
   "source": [
    "\n",
    "\n",
    "\n",
    "#Defining time scales\n",
    "total_time = 5.0\n",
    "steps = 500\n",
    "\n",
    "state_transfer = False\n",
    "#Defining H0\n",
    "qubit_state_num = 2\n",
    "qubit_num = 1\n",
    "freq_ge = 3.9#GHz\n",
    "g = 0.2 #GHz\n",
    "\n",
    "ens = np.array([ 2*np.pi*ii*(freq_ge) for ii in np.arange(qubit_state_num)])\n",
    "Q_x   = np.diag(np.sqrt(np.arange(1,qubit_state_num)),1)+np.diag(np.sqrt(np.arange(1,qubit_state_num)),-1)\n",
    "Q_y   = (0+1j) *(np.diag(np.sqrt(np.arange(1,qubit_state_num)),1)-np.diag(np.sqrt(np.arange(1,qubit_state_num)),-1))\n",
    "Q_z   = np.diag(np.arange(0,qubit_state_num))\n",
    "I_q = np.identity(qubit_state_num)\n",
    "H_q = np.diag(ens)\n",
    "\n",
    "\n",
    "H0 = H_q# + g*X\n",
    "\n",
    "\n",
    "#Defining Concerned states (starting states)\n",
    "\n",
    "\n",
    "\n",
    "all_ones_index = 0\n",
    "for ii in range (qubit_num):\n",
    "    all_ones_index = all_ones_index + qubit_state_num**ii\n",
    "#Defining states to include in the drawing of occupation\n",
    "states_draw_list = [0,all_ones_index]\n",
    "states_draw_names = ['0','1']\n",
    "\n",
    "psi0=[0,1]\n",
    "\n",
    "#Defining U (Target)\n",
    "\n",
    "Ut_c = la.expm((0-1j)*total_time*H0)\n",
    "Ct_c = Ut_c.copy()\n",
    "Ct_c[1,0] = 1\n",
    "Ct_c[0,1] = 1\n",
    "Ct_c[0,0] = 0\n",
    "Ct_c[1,1] = 0\n",
    "U = Ct_c\n",
    "\n",
    "#Defining U0 (Initial)\n",
    "q_identity = np.identity(qubit_state_num**qubit_num)\n",
    "U0= q_identity\n",
    "\n",
    "#Defining control Hs\n",
    "\n",
    "XI = Q_x\n",
    "ZI = Q_z\n",
    "Hops = [XI]\n",
    "ops_max_amp = [2.0]\n",
    "Hnames =['x']\n",
    "\n",
    "print Hnames\n",
    "\n",
    "#Defining convergence parameters\n",
    "max_iterations = 100\n",
    "decay = max_iterations/2\n",
    "convergence = {'rate':0.01, 'update_step':5, 'max_iterations':max_iterations,\\\n",
    "               'conv_target':1e-5,'learning_rate_decay':decay}\n",
    "\n",
    "states_forbidden_list = [all_ones_index]\n",
    "\n",
    "reg_coeffs = {'envelope':0.0,'dwdt':0.0,'d2wdt2':0.0, 'speed_up':0}\n"
   ]
  },
  {
   "cell_type": "code",
   "execution_count": null,
   "metadata": {
    "collapsed": false,
    "scrolled": false
   },
   "outputs": [],
   "source": [
    " #Extra options\n",
    "#reg_coeffs = reg_coeffs,draw = [states_draw_list,states_draw_names] ,forbidden = states_forbidden_list,multi_mode = multi_mode,\n",
    "#maxA = ops_max_amp,use_gpu = True\n",
    "\n",
    "uks,U_final = Grape(H0,Hops,Hnames,U,total_time,steps,psi0,convergence=convergence, draw = [states_draw_list,states_draw_names],\n",
    "                    state_transfer=state_transfer,\n",
    "                    show_plots = True, \n",
    "       unitary_error = 1e-6, method = 'L-BFGS-B',switch = False,  maxA=ops_max_amp,\\\n",
    "                   reg_coeffs=reg_coeffs, file_name='spin_pi_speed_up',\n",
    "                    data_path = '/home/nelson/Simulations/GRAPE-Data/spin_pi_speed_up')\n",
    "      \n",
    "      "
   ]
  },
  {
   "cell_type": "code",
   "execution_count": null,
   "metadata": {
    "collapsed": false,
    "scrolled": false
   },
   "outputs": [],
   "source": []
  }
 ],
 "metadata": {
  "kernelspec": {
   "display_name": "Python 2",
   "language": "python",
   "name": "python2"
  },
  "language_info": {
   "codemirror_mode": {
    "name": "ipython",
    "version": 2
   },
   "file_extension": ".py",
   "mimetype": "text/x-python",
   "name": "python",
   "nbconvert_exporter": "python",
   "pygments_lexer": "ipython2",
   "version": "2.7.6"
  }
 },
 "nbformat": 4,
 "nbformat_minor": 0
}
