{
 "cells": [
  {
   "cell_type": "code",
   "execution_count": 1,
   "metadata": {
    "collapsed": false,
    "scrolled": false
   },
   "outputs": [
    {
     "name": "stdout",
     "output_type": "stream",
     "text": [
      "Populating the interactive namespace from numpy and matplotlib\n"
     ]
    },
    {
     "name": "stderr",
     "output_type": "stream",
     "text": [
      "/usr/local/lib/python2.7/dist-packages/matplotlib/font_manager.py:273: UserWarning: Matplotlib is building the font cache using fc-list. This may take a moment.\n",
      "  warnings.warn('Matplotlib is building the font cache using fc-list. This may take a moment.')\n"
     ]
    }
   ],
   "source": [
    "import scipy.linalg as la\n",
    "import os,sys,inspect\n",
    "currentdir = os.path.dirname(os.path.abspath(inspect.getfile(inspect.currentframe())))\n",
    "parentdir = os.path.dirname(currentdir)\n",
    "sys.path.insert(0,parentdir) \n",
    "import numpy as np\n",
    "from helper_functions.grape_functions import *\n",
    "from main_grape.Grape import Grape\n",
    "%pylab inline\n",
    "\n"
   ]
  },
  {
   "cell_type": "code",
   "execution_count": 2,
   "metadata": {
    "collapsed": false
   },
   "outputs": [],
   "source": [
    "def run_Hadamard(qubit_num):\n",
    "\n",
    "\n",
    "    #Defining time scales\n",
    "    total_time = qubit_num *2.0\n",
    "    steps = qubit_num * 10\n",
    "\n",
    "\n",
    "\n",
    "    state_transfer = False\n",
    "    use_inter_vecs = False\n",
    "    #Defining H0\n",
    "    qubit_state_num = 2\n",
    "    freq_ge = 0#GHz\n",
    "    g = 2*np.pi*0.1 #GHz\n",
    "\n",
    "    ens = np.array([ 2*np.pi*ii*(freq_ge) for ii in np.arange(qubit_state_num)])\n",
    "    Q_x   = np.diag(np.sqrt(np.arange(1,qubit_state_num)),1)+np.diag(np.sqrt(np.arange(1,qubit_state_num)),-1)\n",
    "    Q_y   = (0+1j) *(np.diag(np.sqrt(np.arange(1,qubit_state_num)),1)-np.diag(np.sqrt(np.arange(1,qubit_state_num)),-1))\n",
    "    Q_z   = np.diag(np.arange(0,qubit_state_num))\n",
    "    I_q = np.identity(qubit_state_num)\n",
    "    H_q = np.diag(ens)\n",
    "\n",
    "    X = multi_kron(Q_x,qubit_num)\n",
    "    Z = multi_kron(Q_z,qubit_num)\n",
    "    Y = multi_kron(Q_y,qubit_num)\n",
    "\n",
    "    g_op = nn_chain_kron(Q_z, I_q, qubit_num, qubit_state_num)\n",
    "    \n",
    "#     g_op_test = np.kron(np.kron(np.kron(Q_z,Q_z),I_q),I_q) + np.kron(np.kron(np.kron(I_q,Q_z),Q_z),I_q) +\\\n",
    "#     np.kron(np.kron(np.kron(I_q,I_q),Q_z),Q_z)\n",
    "#     print np.allclose(g_op, g_op_test)\n",
    "\n",
    "\n",
    "#     H0 = kron_all(H_q,qubit_num, I_q) + g * g_op\n",
    "    H0 = g * g_op\n",
    "    \n",
    "    #print H0\n",
    "\n",
    "    # Defining dressed info\n",
    "    is_dressed = False\n",
    "#     w_c, v_c, dressed_id = get_dressed_info(H0)\n",
    "#     dressed_info = {'dressed_id':dressed_id, 'eigenvectors':v_c, 'eigenvalues':w_c,'is_dressed':is_dressed}\n",
    "    \n",
    "    dressed_info = None\n",
    "\n",
    "\n",
    "    #Defining Concerned states (starting states)\n",
    "\n",
    "    psi0 = concerned(qubit_num,qubit_state_num)\n",
    "\n",
    "\n",
    "    #Defining states to include in the drawing of occupation\n",
    "    states_draw_list = range(qubit_state_num**qubit_num)\n",
    "    states_draw_names =[]\n",
    "    for ii in states_draw_list:\n",
    "        states_draw_names.append(Basis(ii,qubit_num,qubit_state_num))\n",
    "\n",
    "    #Defining U (Target)\n",
    "\n",
    "    if is_dressed:    \n",
    "        U = dressed_unitary(Hadamard(qubit_num),v_c,dressed_id)\n",
    "    else:   \n",
    "        U= Hadamard(qubit_num)\n",
    "\n",
    "    #print U    \n",
    "    \n",
    "    if state_transfer:\n",
    "        target_vec_list = []\n",
    "\n",
    "        for ii in psi0:\n",
    "            target_vec = np.dot(U,v_c[:,get_state_index(ii,dressed_id)])\n",
    "            target_vec_list.append(target_vec)\n",
    "\n",
    "        U = target_vec_list\n",
    "\n",
    "\n",
    "    # print target_vec_list[1]\n",
    "    # print np.inner(np.conjugate(target_vec_list[0]),target_vec_list[1])\n",
    "\n",
    "    #Defining U0 (Initial)\n",
    "    q_identity = np.identity(qubit_state_num**qubit_num)\n",
    "    U0= q_identity\n",
    "\n",
    "    #Defining control Hs\n",
    "\n",
    "    Hops = []\n",
    "    Hnames = []\n",
    "    ops_max_amp = []\n",
    "    max_amp=2*np.pi*0.5\n",
    "    Hops,Hnames,ops_max_amp = append_separate_krons(Q_x,'x',qubit_num,qubit_state_num,Hops,Hnames,ops_max_amp,amp=max_amp)\n",
    "    Hops,Hnames,ops_max_amp = append_separate_krons(Q_y,'y',qubit_num,qubit_state_num,Hops,Hnames,ops_max_amp,amp=max_amp)\n",
    "    #Hops,Hnames,ops_max_amp = append_separate_krons(Q_y,'z',qubit_num,qubit_state_num,Hops,Hnames,ops_max_amp,amp=max_amp)\n",
    "    \n",
    "    #print Hops[0]\n",
    "    print Hnames\n",
    "\n",
    "    #Defining convergence parameters\n",
    "    max_iterations = 20000\n",
    "    decay = 1000 #max_iterations/2\n",
    "    convergence = {'rate':0.01, 'update_step':10 ,'max_iterations':max_iterations,\\\n",
    "                   'conv_target':1e-3,'learning_rate_decay':decay,'min_grad':1e-60}\n",
    "\n",
    "    reg_coeffs = {}\n",
    "    \n",
    "    import h5py\n",
    "\n",
    "    #with h5py.File('/home/nelson/Simulations/GRAPE-Data/spin_chain_qft/00004_cpu_spin_chain_qft_N4.h5','r') as hf:\n",
    "    #    u0 = np.array(hf.get('uks'))[-1]\n",
    "    \n",
    "    u0=None\n",
    "\n",
    "    uks,U_final = Grape(H0,Hops,Hnames,U,total_time,steps,psi0,convergence=convergence, draw = [states_draw_list,states_draw_names],  \n",
    "\n",
    "                        show_plots = False, use_gpu = True,sparse_H=True,sparse_U=False,state_transfer = state_transfer, use_inter_vecs = use_inter_vecs,\n",
    "           unitary_error = 1e-8,  maxA=ops_max_amp,Taylor_terms =[20,0],initial_guess=u0,\n",
    "                       dressed_info = dressed_info, method = 'Adam', reg_coeffs=reg_coeffs, file_name='gpu_spin_chain_hadamard_N%d' %(qubit_num), \n",
    "                        data_path = '/home/nelson/Simulations/GRAPE-Data/spin_chain_hadamard')"
   ]
  },
  {
   "cell_type": "code",
   "execution_count": null,
   "metadata": {
    "collapsed": false
   },
   "outputs": [
    {
     "name": "stdout",
     "output_type": "stream",
     "text": [
      "['xiiiiiiii', 'ixiiiiiii', 'iixiiiiii', 'iiixiiiii', 'iiiixiiii', 'iiiiixiii', 'iiiiiixii', 'iiiiiiixi', 'iiiiiiiix', 'yiiiiiiii', 'iyiiiiiii', 'iiyiiiiii', 'iiiyiiiii', 'iiiiyiiii', 'iiiiiyiii', 'iiiiiiyii', 'iiiiiiiyi', 'iiiiiiiiy']\n",
      "data saved at: /home/nelson/Simulations/GRAPE-Data/spin_chain_hadamard/00002_gpu_spin_chain_hadamard_N9.h5\n",
      "Using 20 Taylor terms and 0 Scaling & Squaring terms\n",
      "Building graph:\n",
      "Propagators initialized.\n",
      "Operators weight initialized.\n",
      "Intermediate propagation variables initialized.\n",
      "Intermediate propagators initialized.\n",
      "Training loss initialized.\n",
      "Optimizer initialized.\n",
      "Utilities initialized.\n",
      "Graph built!\n",
      "Initialized\n",
      "Error = :1.00e+00; Runtime: 7.1s; Iterations = 0, grads =   1.572e-11, unitary_metric = 1.00000\n",
      "Error = :8.50e-01; Runtime: 144.0s; Iterations = 10, grads =   8.152e-02, unitary_metric = 1.00000\n",
      "Error = :2.81e-01; Runtime: 278.3s; Iterations = 20, grads =   5.725e-01, unitary_metric = 1.00000"
     ]
    }
   ],
   "source": [
    "run_Hadamard(qubit_num=9)"
   ]
  },
  {
   "cell_type": "code",
   "execution_count": null,
   "metadata": {
    "collapsed": true
   },
   "outputs": [],
   "source": []
  }
 ],
 "metadata": {
  "kernelspec": {
   "display_name": "Python 2",
   "language": "python",
   "name": "python2"
  },
  "language_info": {
   "codemirror_mode": {
    "name": "ipython",
    "version": 2
   },
   "file_extension": ".py",
   "mimetype": "text/x-python",
   "name": "python",
   "nbconvert_exporter": "python",
   "pygments_lexer": "ipython2",
   "version": "2.7.6"
  }
 },
 "nbformat": 4,
 "nbformat_minor": 0
}
